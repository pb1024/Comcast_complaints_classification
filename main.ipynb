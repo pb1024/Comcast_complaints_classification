{
 "cells": [
  {
   "cell_type": "code",
   "execution_count": 1,
   "metadata": {},
   "outputs": [
    {
     "name": "stderr",
     "output_type": "stream",
     "text": [
<<<<<<< HEAD
      "c:\\Users\\parth\\Anaconda3\\lib\\site-packages\\sklearn\\ensemble\\weight_boosting.py:29: DeprecationWarning: numpy.core.umath_tests is an internal NumPy module and should not be imported. It will be removed in a future NumPy release.\n",
=======
      "C:\\Users\\parth\\Anaconda3\\lib\\site-packages\\sklearn\\ensemble\\weight_boosting.py:29: DeprecationWarning: numpy.core.umath_tests is an internal NumPy module and should not be imported. It will be removed in a future NumPy release.\n",
>>>>>>> 9490ef713f36a85d2177e918b3b73019aa7878df
      "  from numpy.core.umath_tests import inner1d\n"
     ]
    }
   ],
   "source": [
    "import pandas as pd\n",
    "import numpy as np\n",
    "from scipy import stats\n",
    "import calendar\n",
    "import datetime\n",
    "#Libraries for Visualization\n",
    "import matplotlib.pyplot as plt\n",
    "import seaborn as sns\n",
    "import re\n",
<<<<<<< HEAD
=======
    "#nltk.download('wordnet')\n",
    "#Supress warnings\n",
>>>>>>> 9490ef713f36a85d2177e918b3b73019aa7878df
    "import warnings\n",
    "warnings.filterwarnings('ignore')\n",
    "from sklearn.model_selection import train_test_split\n",
    "from nltk.stem import WordNetLemmatizer\n",
    "from sklearn.feature_extraction.text import TfidfVectorizer, CountVectorizer\n",
    "from sklearn.naive_bayes import GaussianNB\n",
    "from sklearn import svm\n",
    "from sklearn.ensemble import RandomForestClassifier\n",
    "from sklearn.tree import DecisionTreeClassifier\n",
    "from sklearn.neighbors import KNeighborsClassifier\n",
    "from sklearn.ensemble import GradientBoostingClassifier\n",
    "from sklearn import preprocessing\n",
    "from sklearn.preprocessing import OneHotEncoder,LabelEncoder\n",
    "from xgboost import XGBClassifier\n",
    "import tensorflow as tf\n",
    "import keras\n",
    "from sklearn.metrics import classification_report, accuracy_score, confusion_matrix, recall_score\n",
    "import imp\n",
    "from collections import defaultdict\n",
<<<<<<< HEAD
    "import nltk\n",
    "from nltk.corpus import stopwords\n",
    "from nltk.tokenize import word_tokenize\n",
    "from nltk.stem import SnowballStemmer\n",
    "from nltk.corpus import wordnet\n",
    "from nltk.stem import WordNetLemmatizer\n",
    "from tensorflow.keras.preprocessing.text import Tokenizer\n",
    "from tensorflow.keras.preprocessing.sequence import pad_sequences\n",
    "from keras.models import Sequential\n",
    "from keras import layers\n",
    "\n",
    "import scripts\n",
    "from scripts.preprocess_text import text_preprocess\n",
    "from scripts.cnn_model_helper import plot_history,oneHot"
=======
    "\n",
    "\n",
    "from keras.models import Sequential\n",
    "from keras import layers\n",
    "from keras.layers import Flatten\n",
    "from keras.layers import Embedding\n",
    "from keras.layers.convolutional import Conv1D\n",
    "from keras.layers.convolutional import MaxPooling1D\n",
    "from keras.layers import Dense\n",
    "from tensorflow.keras.preprocessing.text import Tokenizer\n",
    "from tensorflow.keras.preprocessing.sequence import pad_sequences"
>>>>>>> 9490ef713f36a85d2177e918b3b73019aa7878df
   ]
  },
  {
   "cell_type": "code",
   "execution_count": 2,
   "metadata": {},
   "outputs": [],
   "source": [
    "#Import comcast telecom complaints data\n",
<<<<<<< HEAD
    "df = pd.read_csv(\"data/comcast_consumer_complaints.csv\")"
=======
    "df = pd.read_csv(\"data/comcast_consumeraffairs_complaints.csv\")"
>>>>>>> 9490ef713f36a85d2177e918b3b73019aa7878df
   ]
  },
  {
   "cell_type": "code",
   "execution_count": 3,
   "metadata": {},
   "outputs": [
    {
     "data": {
      "text/html": [
       "<div>\n",
       "<style scoped>\n",
       "    .dataframe tbody tr th:only-of-type {\n",
       "        vertical-align: middle;\n",
       "    }\n",
       "\n",
       "    .dataframe tbody tr th {\n",
       "        vertical-align: top;\n",
       "    }\n",
       "\n",
       "    .dataframe thead th {\n",
       "        text-align: right;\n",
       "    }\n",
       "</style>\n",
       "<table border=\"1\" class=\"dataframe\">\n",
       "  <thead>\n",
       "    <tr style=\"text-align: right;\">\n",
       "      <th></th>\n",
<<<<<<< HEAD
       "      <th>Unnamed: 0</th>\n",
=======
>>>>>>> 9490ef713f36a85d2177e918b3b73019aa7878df
       "      <th>author</th>\n",
       "      <th>posted_on</th>\n",
       "      <th>rating</th>\n",
       "      <th>text</th>\n",
<<<<<<< HEAD
       "      <th>complaint_type</th>\n",
=======
>>>>>>> 9490ef713f36a85d2177e918b3b73019aa7878df
       "    </tr>\n",
       "  </thead>\n",
       "  <tbody>\n",
       "    <tr>\n",
       "      <th>0</th>\n",
<<<<<<< HEAD
       "      <td>0</td>\n",
=======
>>>>>>> 9490ef713f36a85d2177e918b3b73019aa7878df
       "      <td>Alantae of Chesterfeild, MI</td>\n",
       "      <td>Nov. 22, 2016</td>\n",
       "      <td>1</td>\n",
       "      <td>I used to love Comcast. Until all these consta...</td>\n",
<<<<<<< HEAD
       "      <td>Internet</td>\n",
       "    </tr>\n",
       "    <tr>\n",
       "      <th>1</th>\n",
       "      <td>1</td>\n",
=======
       "    </tr>\n",
       "    <tr>\n",
       "      <th>1</th>\n",
>>>>>>> 9490ef713f36a85d2177e918b3b73019aa7878df
       "      <td>Vera of Philadelphia, PA</td>\n",
       "      <td>Nov. 19, 2016</td>\n",
       "      <td>1</td>\n",
       "      <td>I'm so over Comcast! The worst internet provid...</td>\n",
<<<<<<< HEAD
       "      <td>Customer Service</td>\n",
       "    </tr>\n",
       "    <tr>\n",
       "      <th>2</th>\n",
       "      <td>2</td>\n",
=======
       "    </tr>\n",
       "    <tr>\n",
       "      <th>2</th>\n",
>>>>>>> 9490ef713f36a85d2177e918b3b73019aa7878df
       "      <td>Sarah of Rancho Cordova, CA</td>\n",
       "      <td>Nov. 17, 2016</td>\n",
       "      <td>1</td>\n",
       "      <td>If I could give them a negative star or no sta...</td>\n",
<<<<<<< HEAD
       "      <td>Financial Issues</td>\n",
       "    </tr>\n",
       "    <tr>\n",
       "      <th>3</th>\n",
       "      <td>3</td>\n",
=======
       "    </tr>\n",
       "    <tr>\n",
       "      <th>3</th>\n",
>>>>>>> 9490ef713f36a85d2177e918b3b73019aa7878df
       "      <td>Dennis of Manchester, NH</td>\n",
       "      <td>Nov. 16, 2016</td>\n",
       "      <td>1</td>\n",
       "      <td>I've had the worst experiences so far since in...</td>\n",
<<<<<<< HEAD
       "      <td>Financial Issues</td>\n",
       "    </tr>\n",
       "    <tr>\n",
       "      <th>4</th>\n",
       "      <td>4</td>\n",
=======
       "    </tr>\n",
       "    <tr>\n",
       "      <th>4</th>\n",
>>>>>>> 9490ef713f36a85d2177e918b3b73019aa7878df
       "      <td>Ryan of Bellevue, WA</td>\n",
       "      <td>Nov. 14, 2016</td>\n",
       "      <td>1</td>\n",
       "      <td>Check your contract when you sign up for Comca...</td>\n",
<<<<<<< HEAD
       "      <td>Internet</td>\n",
=======
>>>>>>> 9490ef713f36a85d2177e918b3b73019aa7878df
       "    </tr>\n",
       "    <tr>\n",
       "      <th>...</th>\n",
       "      <td>...</td>\n",
       "      <td>...</td>\n",
       "      <td>...</td>\n",
       "      <td>...</td>\n",
<<<<<<< HEAD
       "      <td>...</td>\n",
       "      <td>...</td>\n",
       "    </tr>\n",
       "    <tr>\n",
       "      <th>5654</th>\n",
       "      <td>5654</td>\n",
=======
       "    </tr>\n",
       "    <tr>\n",
       "      <th>5654</th>\n",
>>>>>>> 9490ef713f36a85d2177e918b3b73019aa7878df
       "      <td>Brandye of San Ramon, CA</td>\n",
       "      <td>March 12, 2006</td>\n",
       "      <td>0</td>\n",
       "      <td>Last year, we bought the Nascar In Car package...</td>\n",
<<<<<<< HEAD
       "      <td>Financial Issues</td>\n",
       "    </tr>\n",
       "    <tr>\n",
       "      <th>5655</th>\n",
       "      <td>5655</td>\n",
=======
       "    </tr>\n",
       "    <tr>\n",
       "      <th>5655</th>\n",
>>>>>>> 9490ef713f36a85d2177e918b3b73019aa7878df
       "      <td>Paul of Chicago, IL</td>\n",
       "      <td>March 12, 2006</td>\n",
       "      <td>0</td>\n",
       "      <td>Their billing department is horrid. If you dec...</td>\n",
<<<<<<< HEAD
       "      <td>Financial Issues</td>\n",
       "    </tr>\n",
       "    <tr>\n",
       "      <th>5656</th>\n",
       "      <td>5656</td>\n",
=======
       "    </tr>\n",
       "    <tr>\n",
       "      <th>5656</th>\n",
>>>>>>> 9490ef713f36a85d2177e918b3b73019aa7878df
       "      <td>Autumn of Knoxville, TN</td>\n",
       "      <td>March 6, 2006</td>\n",
       "      <td>0</td>\n",
       "      <td>Ordered \"On Demand\" movie for the 1st time in ...</td>\n",
<<<<<<< HEAD
       "      <td>Financial Issues</td>\n",
       "    </tr>\n",
       "    <tr>\n",
       "      <th>5657</th>\n",
       "      <td>5657</td>\n",
=======
       "    </tr>\n",
       "    <tr>\n",
       "      <th>5657</th>\n",
>>>>>>> 9490ef713f36a85d2177e918b3b73019aa7878df
       "      <td>Tina of Villa Rica, GA</td>\n",
       "      <td>Feb. 22, 2006</td>\n",
       "      <td>0</td>\n",
       "      <td>I am being ripped of by Comcast Cable regardin...</td>\n",
<<<<<<< HEAD
       "      <td>Customer Service</td>\n",
       "    </tr>\n",
       "    <tr>\n",
       "      <th>5658</th>\n",
       "      <td>5658</td>\n",
=======
       "    </tr>\n",
       "    <tr>\n",
       "      <th>5658</th>\n",
>>>>>>> 9490ef713f36a85d2177e918b3b73019aa7878df
       "      <td>John of Lilburn, GA</td>\n",
       "      <td>Feb. 19, 2006</td>\n",
       "      <td>0</td>\n",
       "      <td>I have had AT&amp;T/Comcast services, digital TV, ...</td>\n",
<<<<<<< HEAD
       "      <td>Connectivity Issues</td>\n",
       "    </tr>\n",
       "  </tbody>\n",
       "</table>\n",
       "<p>5659 rows × 6 columns</p>\n",
       "</div>"
      ],
      "text/plain": [
       "      Unnamed: 0                       author       posted_on  rating  \\\n",
       "0              0  Alantae of Chesterfeild, MI   Nov. 22, 2016       1   \n",
       "1              1     Vera of Philadelphia, PA   Nov. 19, 2016       1   \n",
       "2              2  Sarah of Rancho Cordova, CA   Nov. 17, 2016       1   \n",
       "3              3     Dennis of Manchester, NH   Nov. 16, 2016       1   \n",
       "4              4         Ryan of Bellevue, WA   Nov. 14, 2016       1   \n",
       "...          ...                          ...             ...     ...   \n",
       "5654        5654     Brandye of San Ramon, CA  March 12, 2006       0   \n",
       "5655        5655          Paul of Chicago, IL  March 12, 2006       0   \n",
       "5656        5656      Autumn of Knoxville, TN   March 6, 2006       0   \n",
       "5657        5657       Tina of Villa Rica, GA   Feb. 22, 2006       0   \n",
       "5658        5658          John of Lilburn, GA   Feb. 19, 2006       0   \n",
       "\n",
       "                                                   text       complaint_type  \n",
       "0     I used to love Comcast. Until all these consta...             Internet  \n",
       "1     I'm so over Comcast! The worst internet provid...     Customer Service  \n",
       "2     If I could give them a negative star or no sta...     Financial Issues  \n",
       "3     I've had the worst experiences so far since in...     Financial Issues  \n",
       "4     Check your contract when you sign up for Comca...             Internet  \n",
       "...                                                 ...                  ...  \n",
       "5654  Last year, we bought the Nascar In Car package...     Financial Issues  \n",
       "5655  Their billing department is horrid. If you dec...     Financial Issues  \n",
       "5656  Ordered \"On Demand\" movie for the 1st time in ...     Financial Issues  \n",
       "5657  I am being ripped of by Comcast Cable regardin...     Customer Service  \n",
       "5658  I have had AT&T/Comcast services, digital TV, ...  Connectivity Issues  \n",
       "\n",
       "[5659 rows x 6 columns]"
=======
       "    </tr>\n",
       "  </tbody>\n",
       "</table>\n",
       "<p>5659 rows × 4 columns</p>\n",
       "</div>"
      ],
      "text/plain": [
       "                           author       posted_on  rating  \\\n",
       "0     Alantae of Chesterfeild, MI   Nov. 22, 2016       1   \n",
       "1        Vera of Philadelphia, PA   Nov. 19, 2016       1   \n",
       "2     Sarah of Rancho Cordova, CA   Nov. 17, 2016       1   \n",
       "3        Dennis of Manchester, NH   Nov. 16, 2016       1   \n",
       "4            Ryan of Bellevue, WA   Nov. 14, 2016       1   \n",
       "...                           ...             ...     ...   \n",
       "5654     Brandye of San Ramon, CA  March 12, 2006       0   \n",
       "5655          Paul of Chicago, IL  March 12, 2006       0   \n",
       "5656      Autumn of Knoxville, TN   March 6, 2006       0   \n",
       "5657       Tina of Villa Rica, GA   Feb. 22, 2006       0   \n",
       "5658          John of Lilburn, GA   Feb. 19, 2006       0   \n",
       "\n",
       "                                                   text  \n",
       "0     I used to love Comcast. Until all these consta...  \n",
       "1     I'm so over Comcast! The worst internet provid...  \n",
       "2     If I could give them a negative star or no sta...  \n",
       "3     I've had the worst experiences so far since in...  \n",
       "4     Check your contract when you sign up for Comca...  \n",
       "...                                                 ...  \n",
       "5654  Last year, we bought the Nascar In Car package...  \n",
       "5655  Their billing department is horrid. If you dec...  \n",
       "5656  Ordered \"On Demand\" movie for the 1st time in ...  \n",
       "5657  I am being ripped of by Comcast Cable regardin...  \n",
       "5658  I have had AT&T/Comcast services, digital TV, ...  \n",
       "\n",
       "[5659 rows x 4 columns]"
>>>>>>> 9490ef713f36a85d2177e918b3b73019aa7878df
      ]
     },
     "execution_count": 3,
     "metadata": {},
     "output_type": "execute_result"
    }
   ],
   "source": [
    "df"
   ]
  },
  {
   "cell_type": "code",
   "execution_count": 4,
   "metadata": {},
   "outputs": [],
   "source": [
    "df['text'] = df['text'].astype(str)"
   ]
  },
  {
<<<<<<< HEAD
   "attachments": {},
   "cell_type": "markdown",
   "metadata": {},
   "source": [
    "# Preprocess and clean data"
=======
   "cell_type": "code",
   "execution_count": 5,
   "metadata": {},
   "outputs": [],
   "source": [
    "def clean_str(string):\n",
    "    \"\"\"\n",
    "    Perform string cleaning for text data\n",
    "    by removing special characters \n",
    "    and converting to lower case\n",
    "    \"\"\"\n",
    "    string = re.sub(r\"[^A-Za-z0-9()!?\\'\\`%$]\", \" \", string) # keep also %$ but removed comma\n",
    "    string = re.sub(r\"\\'s\", \" \\'s\", string)\n",
    "    string = re.sub(r\"\\'ve\", \" \\'ve\", string)\n",
    "    string = re.sub(r\"n\\'t\", \" n\\'t\", string)\n",
    "    string = re.sub(r\"\\'re\", \" \\'re\", string)\n",
    "    string = re.sub(r\"\\'d\", \" \\'d\", string)\n",
    "    string = re.sub(r\"\\'ll\", \" \\'ll\", string)\n",
    "    string = re.sub(r\"!\", \" ! \", string)\n",
    "    string = re.sub(r\"\\(\", \" ( \", string)\n",
    "    string = re.sub(r\"\\)\", \" ) \", string)\n",
    "    string = re.sub(r\"\\?\", \" ? \", string)\n",
    "    string = re.sub(r\"\\$\", \" $ \", string) #yes, isolate $\n",
    "    string = re.sub(r\"\\%\", \" % \", string) #yes, isolate %\n",
    "    string = re.sub(r\"\\s{2,}\", \" \", string)\n",
    "    \n",
    "    # removing non ascii\n",
    "    string = re.sub(r'[^\\x00-\\x7F]+', \"\", string)\n",
    "        \n",
    "    return string.strip().lower()"
>>>>>>> 9490ef713f36a85d2177e918b3b73019aa7878df
   ]
  },
  {
   "cell_type": "code",
<<<<<<< HEAD
   "execution_count": 13,
   "metadata": {},
   "outputs": [],
   "source": [
    "df['clean_complaints'] = df['text'].apply(lambda x : text_preprocess(x))\n",
    "# df['clean_complaints']=df['text'].apply(lambda x : preprocess(x))"
=======
   "execution_count": 6,
   "metadata": {},
   "outputs": [],
   "source": [
    "df['clean_complaints']=df['text'].apply(lambda x : clean_str(x))\n",
    "#     message.dtype"
>>>>>>> 9490ef713f36a85d2177e918b3b73019aa7878df
   ]
  },
  {
   "cell_type": "code",
<<<<<<< HEAD
   "execution_count": 14,
=======
   "execution_count": 7,
>>>>>>> 9490ef713f36a85d2177e918b3b73019aa7878df
   "metadata": {},
   "outputs": [
    {
     "data": {
      "text/html": [
       "<div>\n",
       "<style scoped>\n",
       "    .dataframe tbody tr th:only-of-type {\n",
       "        vertical-align: middle;\n",
       "    }\n",
       "\n",
       "    .dataframe tbody tr th {\n",
       "        vertical-align: top;\n",
       "    }\n",
       "\n",
       "    .dataframe thead th {\n",
       "        text-align: right;\n",
       "    }\n",
       "</style>\n",
       "<table border=\"1\" class=\"dataframe\">\n",
       "  <thead>\n",
       "    <tr style=\"text-align: right;\">\n",
       "      <th></th>\n",
<<<<<<< HEAD
       "      <th>Unnamed: 0</th>\n",
=======
>>>>>>> 9490ef713f36a85d2177e918b3b73019aa7878df
       "      <th>author</th>\n",
       "      <th>posted_on</th>\n",
       "      <th>rating</th>\n",
       "      <th>text</th>\n",
<<<<<<< HEAD
       "      <th>complaint_type</th>\n",
=======
>>>>>>> 9490ef713f36a85d2177e918b3b73019aa7878df
       "      <th>clean_complaints</th>\n",
       "    </tr>\n",
       "  </thead>\n",
       "  <tbody>\n",
       "    <tr>\n",
       "      <th>0</th>\n",
<<<<<<< HEAD
       "      <td>0</td>\n",
=======
>>>>>>> 9490ef713f36a85d2177e918b3b73019aa7878df
       "      <td>Alantae of Chesterfeild, MI</td>\n",
       "      <td>Nov. 22, 2016</td>\n",
       "      <td>1</td>\n",
       "      <td>I used to love Comcast. Until all these consta...</td>\n",
<<<<<<< HEAD
       "      <td>Internet</td>\n",
       "      <td>used love comcast constant updates internet ca...</td>\n",
       "    </tr>\n",
       "    <tr>\n",
       "      <th>1</th>\n",
       "      <td>1</td>\n",
=======
       "      <td>i used to love comcast until all these constan...</td>\n",
       "    </tr>\n",
       "    <tr>\n",
       "      <th>1</th>\n",
       "      <td>Vera of Philadelphia, PA</td>\n",
       "      <td>Nov. 19, 2016</td>\n",
       "      <td>1</td>\n",
       "      <td>I'm so over Comcast! The worst internet provid...</td>\n",
       "      <td>i'm so over comcast ! the worst internet provi...</td>\n",
       "    </tr>\n",
       "    <tr>\n",
       "      <th>2</th>\n",
       "      <td>Sarah of Rancho Cordova, CA</td>\n",
       "      <td>Nov. 17, 2016</td>\n",
       "      <td>1</td>\n",
       "      <td>If I could give them a negative star or no sta...</td>\n",
       "      <td>if i could give them a negative star or no sta...</td>\n",
       "    </tr>\n",
       "    <tr>\n",
       "      <th>3</th>\n",
       "      <td>Dennis of Manchester, NH</td>\n",
       "      <td>Nov. 16, 2016</td>\n",
       "      <td>1</td>\n",
       "      <td>I've had the worst experiences so far since in...</td>\n",
       "      <td>i 've had the worst experiences so far since i...</td>\n",
       "    </tr>\n",
       "    <tr>\n",
       "      <th>4</th>\n",
       "      <td>Ryan of Bellevue, WA</td>\n",
       "      <td>Nov. 14, 2016</td>\n",
       "      <td>1</td>\n",
       "      <td>Check your contract when you sign up for Comca...</td>\n",
       "      <td>check your contract when you sign up for comca...</td>\n",
       "    </tr>\n",
       "    <tr>\n",
       "      <th>...</th>\n",
       "      <td>...</td>\n",
       "      <td>...</td>\n",
       "      <td>...</td>\n",
       "      <td>...</td>\n",
       "      <td>...</td>\n",
       "    </tr>\n",
       "    <tr>\n",
       "      <th>5654</th>\n",
       "      <td>Brandye of San Ramon, CA</td>\n",
       "      <td>March 12, 2006</td>\n",
       "      <td>0</td>\n",
       "      <td>Last year, we bought the Nascar In Car package...</td>\n",
       "      <td>last year we bought the nascar in car package ...</td>\n",
       "    </tr>\n",
       "    <tr>\n",
       "      <th>5655</th>\n",
       "      <td>Paul of Chicago, IL</td>\n",
       "      <td>March 12, 2006</td>\n",
       "      <td>0</td>\n",
       "      <td>Their billing department is horrid. If you dec...</td>\n",
       "      <td>their billing department is horrid if you deci...</td>\n",
       "    </tr>\n",
       "    <tr>\n",
       "      <th>5656</th>\n",
       "      <td>Autumn of Knoxville, TN</td>\n",
       "      <td>March 6, 2006</td>\n",
       "      <td>0</td>\n",
       "      <td>Ordered \"On Demand\" movie for the 1st time in ...</td>\n",
       "      <td>ordered on demand movie for the 1st time in no...</td>\n",
       "    </tr>\n",
       "    <tr>\n",
       "      <th>5657</th>\n",
       "      <td>Tina of Villa Rica, GA</td>\n",
       "      <td>Feb. 22, 2006</td>\n",
       "      <td>0</td>\n",
       "      <td>I am being ripped of by Comcast Cable regardin...</td>\n",
       "      <td>i am being ripped of by comcast cable regardin...</td>\n",
       "    </tr>\n",
       "    <tr>\n",
       "      <th>5658</th>\n",
       "      <td>John of Lilburn, GA</td>\n",
       "      <td>Feb. 19, 2006</td>\n",
       "      <td>0</td>\n",
       "      <td>I have had AT&amp;T/Comcast services, digital TV, ...</td>\n",
       "      <td>i have had at t comcast services digital tv hi...</td>\n",
       "    </tr>\n",
       "  </tbody>\n",
       "</table>\n",
       "<p>5659 rows × 5 columns</p>\n",
       "</div>"
      ],
      "text/plain": [
       "                           author       posted_on  rating  \\\n",
       "0     Alantae of Chesterfeild, MI   Nov. 22, 2016       1   \n",
       "1        Vera of Philadelphia, PA   Nov. 19, 2016       1   \n",
       "2     Sarah of Rancho Cordova, CA   Nov. 17, 2016       1   \n",
       "3        Dennis of Manchester, NH   Nov. 16, 2016       1   \n",
       "4            Ryan of Bellevue, WA   Nov. 14, 2016       1   \n",
       "...                           ...             ...     ...   \n",
       "5654     Brandye of San Ramon, CA  March 12, 2006       0   \n",
       "5655          Paul of Chicago, IL  March 12, 2006       0   \n",
       "5656      Autumn of Knoxville, TN   March 6, 2006       0   \n",
       "5657       Tina of Villa Rica, GA   Feb. 22, 2006       0   \n",
       "5658          John of Lilburn, GA   Feb. 19, 2006       0   \n",
       "\n",
       "                                                   text  \\\n",
       "0     I used to love Comcast. Until all these consta...   \n",
       "1     I'm so over Comcast! The worst internet provid...   \n",
       "2     If I could give them a negative star or no sta...   \n",
       "3     I've had the worst experiences so far since in...   \n",
       "4     Check your contract when you sign up for Comca...   \n",
       "...                                                 ...   \n",
       "5654  Last year, we bought the Nascar In Car package...   \n",
       "5655  Their billing department is horrid. If you dec...   \n",
       "5656  Ordered \"On Demand\" movie for the 1st time in ...   \n",
       "5657  I am being ripped of by Comcast Cable regardin...   \n",
       "5658  I have had AT&T/Comcast services, digital TV, ...   \n",
       "\n",
       "                                       clean_complaints  \n",
       "0     i used to love comcast until all these constan...  \n",
       "1     i'm so over comcast ! the worst internet provi...  \n",
       "2     if i could give them a negative star or no sta...  \n",
       "3     i 've had the worst experiences so far since i...  \n",
       "4     check your contract when you sign up for comca...  \n",
       "...                                                 ...  \n",
       "5654  last year we bought the nascar in car package ...  \n",
       "5655  their billing department is horrid if you deci...  \n",
       "5656  ordered on demand movie for the 1st time in no...  \n",
       "5657  i am being ripped of by comcast cable regardin...  \n",
       "5658  i have had at t comcast services digital tv hi...  \n",
       "\n",
       "[5659 rows x 5 columns]"
      ]
     },
     "execution_count": 7,
     "metadata": {},
     "output_type": "execute_result"
    }
   ],
   "source": [
    "df"
   ]
  },
  {
   "cell_type": "code",
   "execution_count": 8,
   "metadata": {},
   "outputs": [],
   "source": [
    "## Create labels for the data set\n",
    "\n",
    "df['complaint_type'] = 'Others'\n",
    "cond = (df['clean_complaints'].str.contains('internet'))|(df['clean_complaints'].str.contains('data'))\n",
    "df.loc[cond, 'complaint_type'] = 'Internet'\n",
    "cond1 = (df['clean_complaints'].str.contains('network'))|(df['clean_complaints'].str.contains('online'))\n",
    "df.loc[cond1, 'complaint_type'] = 'Network'\n",
    "#build complaint type as account based on keywords\n",
    "cond2 = (df['clean_complaints'].str.contains('account'))|(df['clean_complaints'].str.contains('comcast'))|(df['clean_complaints'].str.contains('business'))\n",
    "df.loc[cond2, 'complaint_type'] = 'Account'\n",
    "cond3 = (df['clean_complaints'].str.contains('bill'))\n",
    "df.loc[cond3, 'complaint_type'] = 'Billing Issues'\n",
    "cond3 = (df['clean_complaints'].str.contains('customer'))|(df['clean_complaints'].str.contains('service'))\n",
    "df.loc[cond3, 'complaint_type'] = 'Customer Service'\n",
    "cond4 = (df['clean_complaints'].str.contains('speed'))|(df['clean_complaints'].str.contains('cap'))\n",
    "df.loc[cond4, 'complaint_type'] = 'Slow internet'\n",
    "cond5 = (df['clean_complaints'].str.contains('bandwith'))|(df['clean_complaints'].str.contains('connect'))|(df['clean_complaints'].str.contains('disconnect'))\n",
    "df.loc[cond5, 'complaint_type'] = 'Connectivity issues'\n",
    "cond6 = (df['clean_complaints'].str.contains('cancellation'))|(df['clean_complaints'].str.contains('package'))|(df['clean_complaints'].str.contains('money'))\n",
    "df.loc[cond6, 'complaint_type'] = 'Financial Issues'\n",
    "cond7 = (df['clean_complaints'].str.contains('disruption'))|(df['clean_complaints'].str.contains('outage'))|(df['clean_complaints'].str.contains('reception'))\n",
    "df.loc[cond7, 'complaint_type'] = 'Connectivity Issues'"
   ]
  },
  {
   "cell_type": "code",
   "execution_count": 9,
   "metadata": {},
   "outputs": [
    {
     "data": {
      "text/html": [
       "<div>\n",
       "<style scoped>\n",
       "    .dataframe tbody tr th:only-of-type {\n",
       "        vertical-align: middle;\n",
       "    }\n",
       "\n",
       "    .dataframe tbody tr th {\n",
       "        vertical-align: top;\n",
       "    }\n",
       "\n",
       "    .dataframe thead th {\n",
       "        text-align: right;\n",
       "    }\n",
       "</style>\n",
       "<table border=\"1\" class=\"dataframe\">\n",
       "  <thead>\n",
       "    <tr style=\"text-align: right;\">\n",
       "      <th></th>\n",
       "      <th>author</th>\n",
       "      <th>posted_on</th>\n",
       "      <th>rating</th>\n",
       "      <th>text</th>\n",
       "      <th>clean_complaints</th>\n",
       "      <th>complaint_type</th>\n",
       "    </tr>\n",
       "  </thead>\n",
       "  <tbody>\n",
       "    <tr>\n",
       "      <th>0</th>\n",
       "      <td>Alantae of Chesterfeild, MI</td>\n",
       "      <td>Nov. 22, 2016</td>\n",
       "      <td>1</td>\n",
       "      <td>I used to love Comcast. Until all these consta...</td>\n",
       "      <td>i used to love comcast until all these constan...</td>\n",
       "      <td>Account</td>\n",
       "    </tr>\n",
       "    <tr>\n",
       "      <th>1</th>\n",
>>>>>>> 9490ef713f36a85d2177e918b3b73019aa7878df
       "      <td>Vera of Philadelphia, PA</td>\n",
       "      <td>Nov. 19, 2016</td>\n",
       "      <td>1</td>\n",
       "      <td>I'm so over Comcast! The worst internet provid...</td>\n",
<<<<<<< HEAD
       "      <td>Customer Service</td>\n",
       "      <td>i'm comcast ! worst internet provider i'm taki...</td>\n",
       "    </tr>\n",
       "    <tr>\n",
       "      <th>2</th>\n",
       "      <td>2</td>\n",
=======
       "      <td>i'm so over comcast ! the worst internet provi...</td>\n",
       "      <td>Customer Service</td>\n",
       "    </tr>\n",
       "    <tr>\n",
       "      <th>2</th>\n",
>>>>>>> 9490ef713f36a85d2177e918b3b73019aa7878df
       "      <td>Sarah of Rancho Cordova, CA</td>\n",
       "      <td>Nov. 17, 2016</td>\n",
       "      <td>1</td>\n",
       "      <td>If I could give them a negative star or no sta...</td>\n",
<<<<<<< HEAD
       "      <td>Financial Issues</td>\n",
       "      <td>could give negative star stars review would ne...</td>\n",
       "    </tr>\n",
       "    <tr>\n",
       "      <th>3</th>\n",
       "      <td>3</td>\n",
=======
       "      <td>if i could give them a negative star or no sta...</td>\n",
       "      <td>Financial Issues</td>\n",
       "    </tr>\n",
       "    <tr>\n",
       "      <th>3</th>\n",
>>>>>>> 9490ef713f36a85d2177e918b3b73019aa7878df
       "      <td>Dennis of Manchester, NH</td>\n",
       "      <td>Nov. 16, 2016</td>\n",
       "      <td>1</td>\n",
       "      <td>I've had the worst experiences so far since in...</td>\n",
<<<<<<< HEAD
       "      <td>Financial Issues</td>\n",
       "      <td>'ve worst experiences far since install nothin...</td>\n",
       "    </tr>\n",
       "    <tr>\n",
       "      <th>4</th>\n",
       "      <td>4</td>\n",
=======
       "      <td>i 've had the worst experiences so far since i...</td>\n",
       "      <td>Financial Issues</td>\n",
       "    </tr>\n",
       "    <tr>\n",
       "      <th>4</th>\n",
>>>>>>> 9490ef713f36a85d2177e918b3b73019aa7878df
       "      <td>Ryan of Bellevue, WA</td>\n",
       "      <td>Nov. 14, 2016</td>\n",
       "      <td>1</td>\n",
       "      <td>Check your contract when you sign up for Comca...</td>\n",
<<<<<<< HEAD
       "      <td>Internet</td>\n",
       "      <td>check contract sign comcast advertised offers ...</td>\n",
=======
       "      <td>check your contract when you sign up for comca...</td>\n",
       "      <td>Account</td>\n",
>>>>>>> 9490ef713f36a85d2177e918b3b73019aa7878df
       "    </tr>\n",
       "    <tr>\n",
       "      <th>...</th>\n",
       "      <td>...</td>\n",
       "      <td>...</td>\n",
       "      <td>...</td>\n",
       "      <td>...</td>\n",
       "      <td>...</td>\n",
       "      <td>...</td>\n",
<<<<<<< HEAD
       "      <td>...</td>\n",
       "    </tr>\n",
       "    <tr>\n",
       "      <th>5654</th>\n",
       "      <td>5654</td>\n",
=======
       "    </tr>\n",
       "    <tr>\n",
       "      <th>5654</th>\n",
>>>>>>> 9490ef713f36a85d2177e918b3b73019aa7878df
       "      <td>Brandye of San Ramon, CA</td>\n",
       "      <td>March 12, 2006</td>\n",
       "      <td>0</td>\n",
       "      <td>Last year, we bought the Nascar In Car package...</td>\n",
<<<<<<< HEAD
       "      <td>Financial Issues</td>\n",
       "      <td>last year bought nascar car package comcast ch...</td>\n",
       "    </tr>\n",
       "    <tr>\n",
       "      <th>5655</th>\n",
       "      <td>5655</td>\n",
=======
       "      <td>last year we bought the nascar in car package ...</td>\n",
       "      <td>Financial Issues</td>\n",
       "    </tr>\n",
       "    <tr>\n",
       "      <th>5655</th>\n",
>>>>>>> 9490ef713f36a85d2177e918b3b73019aa7878df
       "      <td>Paul of Chicago, IL</td>\n",
       "      <td>March 12, 2006</td>\n",
       "      <td>0</td>\n",
       "      <td>Their billing department is horrid. If you dec...</td>\n",
<<<<<<< HEAD
       "      <td>Financial Issues</td>\n",
       "      <td>billing department horrid decide use comcast (...</td>\n",
       "    </tr>\n",
       "    <tr>\n",
       "      <th>5656</th>\n",
       "      <td>5656</td>\n",
=======
       "      <td>their billing department is horrid if you deci...</td>\n",
       "      <td>Financial Issues</td>\n",
       "    </tr>\n",
       "    <tr>\n",
       "      <th>5656</th>\n",
>>>>>>> 9490ef713f36a85d2177e918b3b73019aa7878df
       "      <td>Autumn of Knoxville, TN</td>\n",
       "      <td>March 6, 2006</td>\n",
       "      <td>0</td>\n",
       "      <td>Ordered \"On Demand\" movie for the 1st time in ...</td>\n",
<<<<<<< HEAD
       "      <td>Financial Issues</td>\n",
       "      <td>ordered demand movie st time nov get bill char...</td>\n",
       "    </tr>\n",
       "    <tr>\n",
       "      <th>5657</th>\n",
       "      <td>5657</td>\n",
=======
       "      <td>ordered on demand movie for the 1st time in no...</td>\n",
       "      <td>Financial Issues</td>\n",
       "    </tr>\n",
       "    <tr>\n",
       "      <th>5657</th>\n",
>>>>>>> 9490ef713f36a85d2177e918b3b73019aa7878df
       "      <td>Tina of Villa Rica, GA</td>\n",
       "      <td>Feb. 22, 2006</td>\n",
       "      <td>0</td>\n",
       "      <td>I am being ripped of by Comcast Cable regardin...</td>\n",
<<<<<<< HEAD
       "      <td>Customer Service</td>\n",
       "      <td>ripped comcast cable regarding billing expande...</td>\n",
       "    </tr>\n",
       "    <tr>\n",
       "      <th>5658</th>\n",
       "      <td>5658</td>\n",
=======
       "      <td>i am being ripped of by comcast cable regardin...</td>\n",
       "      <td>Customer Service</td>\n",
       "    </tr>\n",
       "    <tr>\n",
       "      <th>5658</th>\n",
>>>>>>> 9490ef713f36a85d2177e918b3b73019aa7878df
       "      <td>John of Lilburn, GA</td>\n",
       "      <td>Feb. 19, 2006</td>\n",
       "      <td>0</td>\n",
       "      <td>I have had AT&amp;T/Comcast services, digital TV, ...</td>\n",
<<<<<<< HEAD
       "      <td>Connectivity Issues</td>\n",
       "      <td>comcast services digital tv high speed interne...</td>\n",
       "    </tr>\n",
       "  </tbody>\n",
       "</table>\n",
       "<p>5659 rows × 7 columns</p>\n",
       "</div>"
      ],
      "text/plain": [
       "      Unnamed: 0                       author       posted_on  rating  \\\n",
       "0              0  Alantae of Chesterfeild, MI   Nov. 22, 2016       1   \n",
       "1              1     Vera of Philadelphia, PA   Nov. 19, 2016       1   \n",
       "2              2  Sarah of Rancho Cordova, CA   Nov. 17, 2016       1   \n",
       "3              3     Dennis of Manchester, NH   Nov. 16, 2016       1   \n",
       "4              4         Ryan of Bellevue, WA   Nov. 14, 2016       1   \n",
       "...          ...                          ...             ...     ...   \n",
       "5654        5654     Brandye of San Ramon, CA  March 12, 2006       0   \n",
       "5655        5655          Paul of Chicago, IL  March 12, 2006       0   \n",
       "5656        5656      Autumn of Knoxville, TN   March 6, 2006       0   \n",
       "5657        5657       Tina of Villa Rica, GA   Feb. 22, 2006       0   \n",
       "5658        5658          John of Lilburn, GA   Feb. 19, 2006       0   \n",
       "\n",
       "                                                   text       complaint_type  \\\n",
       "0     I used to love Comcast. Until all these consta...             Internet   \n",
       "1     I'm so over Comcast! The worst internet provid...     Customer Service   \n",
       "2     If I could give them a negative star or no sta...     Financial Issues   \n",
       "3     I've had the worst experiences so far since in...     Financial Issues   \n",
       "4     Check your contract when you sign up for Comca...             Internet   \n",
       "...                                                 ...                  ...   \n",
       "5654  Last year, we bought the Nascar In Car package...     Financial Issues   \n",
       "5655  Their billing department is horrid. If you dec...     Financial Issues   \n",
       "5656  Ordered \"On Demand\" movie for the 1st time in ...     Financial Issues   \n",
       "5657  I am being ripped of by Comcast Cable regardin...     Customer Service   \n",
       "5658  I have had AT&T/Comcast services, digital TV, ...  Connectivity Issues   \n",
       "\n",
       "                                       clean_complaints  \n",
       "0     used love comcast constant updates internet ca...  \n",
       "1     i'm comcast ! worst internet provider i'm taki...  \n",
       "2     could give negative star stars review would ne...  \n",
       "3     've worst experiences far since install nothin...  \n",
       "4     check contract sign comcast advertised offers ...  \n",
       "...                                                 ...  \n",
       "5654  last year bought nascar car package comcast ch...  \n",
       "5655  billing department horrid decide use comcast (...  \n",
       "5656  ordered demand movie st time nov get bill char...  \n",
       "5657  ripped comcast cable regarding billing expande...  \n",
       "5658  comcast services digital tv high speed interne...  \n",
       "\n",
       "[5659 rows x 7 columns]"
      ]
     },
     "execution_count": 14,
=======
       "      <td>i have had at t comcast services digital tv hi...</td>\n",
       "      <td>Connectivity Issues</td>\n",
       "    </tr>\n",
       "  </tbody>\n",
       "</table>\n",
       "<p>5659 rows × 6 columns</p>\n",
       "</div>"
      ],
      "text/plain": [
       "                           author       posted_on  rating  \\\n",
       "0     Alantae of Chesterfeild, MI   Nov. 22, 2016       1   \n",
       "1        Vera of Philadelphia, PA   Nov. 19, 2016       1   \n",
       "2     Sarah of Rancho Cordova, CA   Nov. 17, 2016       1   \n",
       "3        Dennis of Manchester, NH   Nov. 16, 2016       1   \n",
       "4            Ryan of Bellevue, WA   Nov. 14, 2016       1   \n",
       "...                           ...             ...     ...   \n",
       "5654     Brandye of San Ramon, CA  March 12, 2006       0   \n",
       "5655          Paul of Chicago, IL  March 12, 2006       0   \n",
       "5656      Autumn of Knoxville, TN   March 6, 2006       0   \n",
       "5657       Tina of Villa Rica, GA   Feb. 22, 2006       0   \n",
       "5658          John of Lilburn, GA   Feb. 19, 2006       0   \n",
       "\n",
       "                                                   text  \\\n",
       "0     I used to love Comcast. Until all these consta...   \n",
       "1     I'm so over Comcast! The worst internet provid...   \n",
       "2     If I could give them a negative star or no sta...   \n",
       "3     I've had the worst experiences so far since in...   \n",
       "4     Check your contract when you sign up for Comca...   \n",
       "...                                                 ...   \n",
       "5654  Last year, we bought the Nascar In Car package...   \n",
       "5655  Their billing department is horrid. If you dec...   \n",
       "5656  Ordered \"On Demand\" movie for the 1st time in ...   \n",
       "5657  I am being ripped of by Comcast Cable regardin...   \n",
       "5658  I have had AT&T/Comcast services, digital TV, ...   \n",
       "\n",
       "                                       clean_complaints       complaint_type  \n",
       "0     i used to love comcast until all these constan...              Account  \n",
       "1     i'm so over comcast ! the worst internet provi...     Customer Service  \n",
       "2     if i could give them a negative star or no sta...     Financial Issues  \n",
       "3     i 've had the worst experiences so far since i...     Financial Issues  \n",
       "4     check your contract when you sign up for comca...              Account  \n",
       "...                                                 ...                  ...  \n",
       "5654  last year we bought the nascar in car package ...     Financial Issues  \n",
       "5655  their billing department is horrid if you deci...     Financial Issues  \n",
       "5656  ordered on demand movie for the 1st time in no...     Financial Issues  \n",
       "5657  i am being ripped of by comcast cable regardin...     Customer Service  \n",
       "5658  i have had at t comcast services digital tv hi...  Connectivity Issues  \n",
       "\n",
       "[5659 rows x 6 columns]"
      ]
     },
     "execution_count": 9,
>>>>>>> 9490ef713f36a85d2177e918b3b73019aa7878df
     "metadata": {},
     "output_type": "execute_result"
    }
   ],
   "source": [
    "df"
   ]
  },
  {
   "cell_type": "code",
<<<<<<< HEAD
   "execution_count": 15,
=======
   "execution_count": 10,
>>>>>>> 9490ef713f36a85d2177e918b3b73019aa7878df
   "metadata": {},
   "outputs": [],
   "source": [
    "X_train, X_test, y_train, y_test = train_test_split(df['clean_complaints'], df['complaint_type'], stratify = df['complaint_type'],test_size=0.20, random_state=200)\n",
    "X_train, X_val, y_train, y_val = train_test_split(X_train, y_train, test_size=0.25, random_state=1) # 0.25 x 0.8 = 0.2"
   ]
  },
  {
   "cell_type": "code",
<<<<<<< HEAD
   "execution_count": 16,
=======
   "execution_count": 11,
>>>>>>> 9490ef713f36a85d2177e918b3b73019aa7878df
   "metadata": {},
   "outputs": [
    {
     "data": {
      "text/plain": [
<<<<<<< HEAD
       "array(['Financial Issues', 'Customer Service', 'Slow internet',\n",
       "       'Connectivity issues', 'Others', 'Connectivity Issues',\n",
       "       'Billing Issues', 'Account', 'Internet', 'Network'], dtype=object)"
      ]
     },
     "execution_count": 16,
=======
       "array(['Customer Service', 'Connectivity issues', 'Financial Issues',\n",
       "       'Slow internet', 'Billing Issues', 'Connectivity Issues',\n",
       "       'Account', 'Others', 'Internet', 'Network'], dtype=object)"
      ]
     },
     "execution_count": 11,
>>>>>>> 9490ef713f36a85d2177e918b3b73019aa7878df
     "metadata": {},
     "output_type": "execute_result"
    }
   ],
   "source": [
    "y_test.unique()"
   ]
  },
  {
   "cell_type": "code",
<<<<<<< HEAD
   "execution_count": 17,
=======
   "execution_count": 12,
>>>>>>> 9490ef713f36a85d2177e918b3b73019aa7878df
   "metadata": {},
   "outputs": [],
   "source": [
    "Encoder = LabelEncoder()\n",
    "y_train = Encoder.fit_transform(y_train)\n",
<<<<<<< HEAD
    "y_test = Encoder.fit_transform(y_test)\n",
    "y_val = Encoder.fit_transform(y_val)"
=======
    "y_test = Encoder.fit_transform(y_test)"
>>>>>>> 9490ef713f36a85d2177e918b3b73019aa7878df
   ]
  },
  {
   "cell_type": "code",
<<<<<<< HEAD
   "execution_count": 18,
=======
   "execution_count": 13,
>>>>>>> 9490ef713f36a85d2177e918b3b73019aa7878df
   "metadata": {},
   "outputs": [
    {
     "data": {
      "text/plain": [
<<<<<<< HEAD
       "0       used love comcast constant updates internet ca...\n",
       "1       i'm comcast ! worst internet provider i'm taki...\n",
       "2       could give negative star stars review would ne...\n",
       "3       've worst experiences far since install nothin...\n",
       "4       check contract sign comcast advertised offers ...\n",
       "                              ...                        \n",
       "5654    last year bought nascar car package comcast ch...\n",
       "5655    billing department horrid decide use comcast (...\n",
       "5656    ordered demand movie st time nov get bill char...\n",
       "5657    ripped comcast cable regarding billing expande...\n",
       "5658    comcast services digital tv high speed interne...\n",
       "Name: clean_complaints, Length: 5659, dtype: object"
      ]
     },
     "execution_count": 18,
=======
       "0       i used to love comcast until all these constan...\n",
       "1       i'm so over comcast ! the worst internet provi...\n",
       "2       if i could give them a negative star or no sta...\n",
       "3       i 've had the worst experiences so far since i...\n",
       "4       check your contract when you sign up for comca...\n",
       "                              ...                        \n",
       "5654    last year we bought the nascar in car package ...\n",
       "5655    their billing department is horrid if you deci...\n",
       "5656    ordered on demand movie for the 1st time in no...\n",
       "5657    i am being ripped of by comcast cable regardin...\n",
       "5658    i have had at t comcast services digital tv hi...\n",
       "Name: clean_complaints, Length: 5659, dtype: object"
      ]
     },
     "execution_count": 13,
>>>>>>> 9490ef713f36a85d2177e918b3b73019aa7878df
     "metadata": {},
     "output_type": "execute_result"
    }
   ],
   "source": [
    "df['clean_complaints']"
   ]
  },
  {
<<<<<<< HEAD
   "attachments": {},
=======
>>>>>>> 9490ef713f36a85d2177e918b3b73019aa7878df
   "cell_type": "markdown",
   "metadata": {},
   "source": [
    "## Generate vector for text based on the count of the tokens"
   ]
  },
  {
   "cell_type": "code",
<<<<<<< HEAD
   "execution_count": 19,
=======
   "execution_count": 14,
>>>>>>> 9490ef713f36a85d2177e918b3b73019aa7878df
   "metadata": {},
   "outputs": [],
   "source": [
    "Tfidf_vect = TfidfVectorizer(max_features=5000)\n",
    "Tfidf_vect.fit(df['clean_complaints'])\n",
    "X_train_vectorized = Tfidf_vect.transform(X_train)\n",
    "X_test_vectorized = Tfidf_vect.transform(X_test)"
   ]
  },
  {
   "cell_type": "code",
<<<<<<< HEAD
   "execution_count": 20,
=======
   "execution_count": 15,
>>>>>>> 9490ef713f36a85d2177e918b3b73019aa7878df
   "metadata": {},
   "outputs": [],
   "source": [
    "# from gensim.models import Word2Vec\n",
    "\n",
    "# sentences = [df['clean_complaints'] for sentence in X_train]\n",
    "# w2v_model = Word2Vec(sentences.any(), size=100, window=5, min_count=5, workers=4)"
   ]
  },
  {
<<<<<<< HEAD
   "attachments": {},
=======
>>>>>>> 9490ef713f36a85d2177e918b3b73019aa7878df
   "cell_type": "markdown",
   "metadata": {},
   "source": [
    "# Naive Bayes classification"
   ]
  },
  {
   "cell_type": "code",
<<<<<<< HEAD
   "execution_count": 21,
=======
   "execution_count": 16,
>>>>>>> 9490ef713f36a85d2177e918b3b73019aa7878df
   "metadata": {},
   "outputs": [
    {
     "data": {
      "text/plain": [
       "GaussianNB(priors=None)"
      ]
     },
<<<<<<< HEAD
     "execution_count": 21,
=======
     "execution_count": 16,
>>>>>>> 9490ef713f36a85d2177e918b3b73019aa7878df
     "metadata": {},
     "output_type": "execute_result"
    }
   ],
   "source": [
    "cls = GaussianNB()\n",
    "cls.fit(X_train_vectorized.toarray(), y_train)"
   ]
  },
  {
   "cell_type": "code",
<<<<<<< HEAD
   "execution_count": 22,
=======
   "execution_count": 17,
>>>>>>> 9490ef713f36a85d2177e918b3b73019aa7878df
   "metadata": {},
   "outputs": [],
   "source": [
    "y_pred = cls.predict(X_test_vectorized.toarray())"
   ]
  },
  {
   "cell_type": "code",
<<<<<<< HEAD
   "execution_count": 23,
=======
   "execution_count": 18,
>>>>>>> 9490ef713f36a85d2177e918b3b73019aa7878df
   "metadata": {},
   "outputs": [
    {
     "data": {
      "text/plain": [
<<<<<<< HEAD
       "'The accuracy score is: 31.45%'"
      ]
     },
     "execution_count": 23,
=======
       "'The accuracy score is: 36.04%'"
      ]
     },
     "execution_count": 18,
>>>>>>> 9490ef713f36a85d2177e918b3b73019aa7878df
     "metadata": {},
     "output_type": "execute_result"
    }
   ],
   "source": [
    "f'The accuracy score is: {round(accuracy_score(y_test, y_pred)*100, 2)}%'"
   ]
  },
  {
   "cell_type": "code",
<<<<<<< HEAD
   "execution_count": 24,
=======
   "execution_count": 19,
>>>>>>> 9490ef713f36a85d2177e918b3b73019aa7878df
   "metadata": {},
   "outputs": [
    {
     "data": {
      "text/plain": [
<<<<<<< HEAD
       "'             precision    recall  f1-score   support\\n\\n          0       0.00      0.00      0.00        16\\n          1       0.20      0.05      0.08        42\\n          2       0.15      0.20      0.17        55\\n          3       0.28      0.34      0.30       191\\n          4       0.43      0.32      0.36       433\\n          5       0.33      0.49      0.39       264\\n          6       0.00      0.00      0.00        10\\n          7       0.00      0.00      0.00         5\\n          8       0.53      0.13      0.21        60\\n          9       0.04      0.05      0.04        56\\n\\navg / total       0.33      0.31      0.31      1132\\n'"
      ]
     },
     "execution_count": 24,
=======
       "'             precision    recall  f1-score   support\\n\\n          0       0.67      0.07      0.12        59\\n          1       0.50      0.03      0.05        39\\n          2       0.12      0.18      0.14        56\\n          3       0.27      0.40      0.32       192\\n          4       0.49      0.29      0.37       434\\n          5       0.42      0.67      0.51       268\\n          6       0.00      0.00      0.00         3\\n          7       0.00      0.00      0.00         2\\n          8       1.00      0.18      0.31        22\\n          9       0.09      0.11      0.10        57\\n\\navg / total       0.42      0.36      0.34      1132\\n'"
      ]
     },
     "execution_count": 19,
>>>>>>> 9490ef713f36a85d2177e918b3b73019aa7878df
     "metadata": {},
     "output_type": "execute_result"
    }
   ],
   "source": [
    "classification_report(y_test,y_pred)"
   ]
  },
  {
<<<<<<< HEAD
   "attachments": {},
=======
>>>>>>> 9490ef713f36a85d2177e918b3b73019aa7878df
   "cell_type": "markdown",
   "metadata": {},
   "source": [
    "# Support Vector Machine classifier"
   ]
  },
  {
   "cell_type": "code",
<<<<<<< HEAD
   "execution_count": 25,
=======
   "execution_count": 20,
>>>>>>> 9490ef713f36a85d2177e918b3b73019aa7878df
   "metadata": {},
   "outputs": [
    {
     "data": {
      "text/plain": [
       "SVC(C=1.0, cache_size=200, class_weight=None, coef0=0.0,\n",
       "  decision_function_shape='ovr', degree=3, gamma='auto', kernel='rbf',\n",
       "  max_iter=-1, probability=False, random_state=None, shrinking=True,\n",
       "  tol=0.001, verbose=False)"
      ]
     },
<<<<<<< HEAD
     "execution_count": 25,
=======
     "execution_count": 20,
>>>>>>> 9490ef713f36a85d2177e918b3b73019aa7878df
     "metadata": {},
     "output_type": "execute_result"
    }
   ],
   "source": [
    "cls = svm.SVC(kernel='rbf')\n",
    "cls.fit(X_train_vectorized, y_train)"
   ]
  },
  {
   "cell_type": "code",
<<<<<<< HEAD
   "execution_count": 26,
=======
   "execution_count": 21,
>>>>>>> 9490ef713f36a85d2177e918b3b73019aa7878df
   "metadata": {},
   "outputs": [],
   "source": [
    "y_pred = cls.predict(X_test_vectorized)"
   ]
  },
  {
   "cell_type": "code",
<<<<<<< HEAD
   "execution_count": 27,
=======
   "execution_count": 22,
>>>>>>> 9490ef713f36a85d2177e918b3b73019aa7878df
   "metadata": {},
   "outputs": [
    {
     "data": {
      "text/plain": [
<<<<<<< HEAD
       "'The accuracy score is: 38.25%'"
      ]
     },
     "execution_count": 27,
=======
       "'The accuracy score is: 38.34%'"
      ]
     },
     "execution_count": 22,
>>>>>>> 9490ef713f36a85d2177e918b3b73019aa7878df
     "metadata": {},
     "output_type": "execute_result"
    }
   ],
   "source": [
    "f'The accuracy score is: {round(accuracy_score(y_test, y_pred)*100, 2)}%'"
   ]
  },
  {
   "cell_type": "code",
<<<<<<< HEAD
   "execution_count": 28,
=======
   "execution_count": 23,
>>>>>>> 9490ef713f36a85d2177e918b3b73019aa7878df
   "metadata": {},
   "outputs": [
    {
     "data": {
      "text/plain": [
<<<<<<< HEAD
       "'             precision    recall  f1-score   support\\n\\n          0       0.00      0.00      0.00        16\\n          1       0.00      0.00      0.00        42\\n          2       0.00      0.00      0.00        55\\n          3       0.00      0.00      0.00       191\\n          4       0.38      1.00      0.55       433\\n          5       0.00      0.00      0.00       264\\n          6       0.00      0.00      0.00        10\\n          7       0.00      0.00      0.00         5\\n          8       0.00      0.00      0.00        60\\n          9       0.00      0.00      0.00        56\\n\\navg / total       0.15      0.38      0.21      1132\\n'"
      ]
     },
     "execution_count": 28,
=======
       "'             precision    recall  f1-score   support\\n\\n          0       0.00      0.00      0.00        59\\n          1       0.00      0.00      0.00        39\\n          2       0.00      0.00      0.00        56\\n          3       0.00      0.00      0.00       192\\n          4       0.38      1.00      0.55       434\\n          5       0.00      0.00      0.00       268\\n          6       0.00      0.00      0.00         3\\n          7       0.00      0.00      0.00         2\\n          8       0.00      0.00      0.00        22\\n          9       0.00      0.00      0.00        57\\n\\navg / total       0.15      0.38      0.21      1132\\n'"
      ]
     },
     "execution_count": 23,
>>>>>>> 9490ef713f36a85d2177e918b3b73019aa7878df
     "metadata": {},
     "output_type": "execute_result"
    }
   ],
   "source": [
    "classification_report(y_test,y_pred)"
   ]
  },
  {
<<<<<<< HEAD
   "attachments": {},
=======
>>>>>>> 9490ef713f36a85d2177e918b3b73019aa7878df
   "cell_type": "markdown",
   "metadata": {},
   "source": [
    "# Random forest classifier"
   ]
  },
  {
   "cell_type": "code",
<<<<<<< HEAD
   "execution_count": 29,
=======
   "execution_count": 24,
>>>>>>> 9490ef713f36a85d2177e918b3b73019aa7878df
   "metadata": {},
   "outputs": [
    {
     "data": {
      "text/plain": [
       "RandomForestClassifier(bootstrap=True, class_weight=None, criterion='gini',\n",
       "            max_depth=20, max_features='auto', max_leaf_nodes=None,\n",
       "            min_impurity_decrease=0.0, min_impurity_split=None,\n",
       "            min_samples_leaf=1, min_samples_split=2,\n",
       "            min_weight_fraction_leaf=0.0, n_estimators=10, n_jobs=1,\n",
       "            oob_score=False, random_state=None, verbose=0,\n",
       "            warm_start=False)"
      ]
     },
<<<<<<< HEAD
     "execution_count": 29,
=======
     "execution_count": 24,
>>>>>>> 9490ef713f36a85d2177e918b3b73019aa7878df
     "metadata": {},
     "output_type": "execute_result"
    }
   ],
   "source": [
    "rdmfst = RandomForestClassifier(max_depth=20)\n",
    "rdmfst.fit(X_train_vectorized, y_train)"
   ]
  },
  {
   "cell_type": "code",
<<<<<<< HEAD
   "execution_count": 30,
=======
   "execution_count": 25,
>>>>>>> 9490ef713f36a85d2177e918b3b73019aa7878df
   "metadata": {},
   "outputs": [],
   "source": [
    "y_pred = rdmfst.predict(X_test_vectorized)"
   ]
  },
  {
   "cell_type": "code",
<<<<<<< HEAD
   "execution_count": 31,
=======
   "execution_count": 26,
>>>>>>> 9490ef713f36a85d2177e918b3b73019aa7878df
   "metadata": {},
   "outputs": [
    {
     "data": {
      "text/plain": [
<<<<<<< HEAD
       "'The accuracy score is: 61.04%'"
      ]
     },
     "execution_count": 31,
=======
       "'The accuracy score is: 57.07%'"
      ]
     },
     "execution_count": 26,
>>>>>>> 9490ef713f36a85d2177e918b3b73019aa7878df
     "metadata": {},
     "output_type": "execute_result"
    }
   ],
   "source": [
    "f'The accuracy score is: {round(accuracy_score(y_test, y_pred)*100, 2)}%'"
   ]
  },
  {
   "cell_type": "code",
<<<<<<< HEAD
   "execution_count": 32,
=======
   "execution_count": 27,
>>>>>>> 9490ef713f36a85d2177e918b3b73019aa7878df
   "metadata": {},
   "outputs": [],
   "source": [
    "test_y_pred = rdmfst.predict(X_test_vectorized)"
   ]
  },
  {
   "cell_type": "code",
<<<<<<< HEAD
   "execution_count": 33,
=======
   "execution_count": 28,
>>>>>>> 9490ef713f36a85d2177e918b3b73019aa7878df
   "metadata": {},
   "outputs": [
    {
     "data": {
      "text/plain": [
<<<<<<< HEAD
       "'The accuracy score is: 61.04%'"
      ]
     },
     "execution_count": 33,
=======
       "'The accuracy score is: 57.07%'"
      ]
     },
     "execution_count": 28,
>>>>>>> 9490ef713f36a85d2177e918b3b73019aa7878df
     "metadata": {},
     "output_type": "execute_result"
    }
   ],
   "source": [
    "f'The accuracy score is: {round(accuracy_score(y_test, test_y_pred)*100, 2)}%'\n"
   ]
  },
  {
<<<<<<< HEAD
   "cell_type": "code",
   "execution_count": 34,
   "metadata": {},
   "outputs": [
    {
     "data": {
      "text/plain": [
       "'             precision    recall  f1-score   support\\n\\n          0       0.00      0.00      0.00        16\\n          1       0.00      0.00      0.00        42\\n          2       0.88      0.27      0.42        55\\n          3       0.79      0.36      0.49       191\\n          4       0.52      0.96      0.67       433\\n          5       0.87      0.70      0.77       264\\n          6       0.00      0.00      0.00        10\\n          7       0.00      0.00      0.00         5\\n          8       0.88      0.12      0.21        60\\n          9       0.43      0.05      0.10        56\\n\\navg / total       0.64      0.61      0.56      1132\\n'"
      ]
     },
     "execution_count": 34,
     "metadata": {},
     "output_type": "execute_result"
    }
   ],
   "source": [
    "classification_report(y_test,y_pred)"
   ]
  },
  {
   "attachments": {},
=======
>>>>>>> 9490ef713f36a85d2177e918b3b73019aa7878df
   "cell_type": "markdown",
   "metadata": {},
   "source": [
    "# KNN classifier"
   ]
  },
  {
   "cell_type": "code",
<<<<<<< HEAD
   "execution_count": 35,
=======
   "execution_count": 29,
>>>>>>> 9490ef713f36a85d2177e918b3b73019aa7878df
   "metadata": {},
   "outputs": [
    {
     "data": {
      "text/plain": [
       "KNeighborsClassifier(algorithm='auto', leaf_size=30, metric='minkowski',\n",
       "           metric_params=None, n_jobs=1, n_neighbors=1000, p=2,\n",
       "           weights='distance')"
      ]
     },
<<<<<<< HEAD
     "execution_count": 35,
=======
     "execution_count": 29,
>>>>>>> 9490ef713f36a85d2177e918b3b73019aa7878df
     "metadata": {},
     "output_type": "execute_result"
    }
   ],
   "source": [
    "neigh = KNeighborsClassifier(n_neighbors=1000, weights='distance')\n",
    "neigh.fit(X_train_vectorized, y_train)"
   ]
  },
  {
   "cell_type": "code",
<<<<<<< HEAD
   "execution_count": 36,
=======
   "execution_count": 30,
>>>>>>> 9490ef713f36a85d2177e918b3b73019aa7878df
   "metadata": {},
   "outputs": [],
   "source": [
    "test_y_pred = neigh.predict(X_test_vectorized)"
   ]
  },
  {
   "cell_type": "code",
<<<<<<< HEAD
   "execution_count": 37,
=======
   "execution_count": 31,
>>>>>>> 9490ef713f36a85d2177e918b3b73019aa7878df
   "metadata": {},
   "outputs": [
    {
     "data": {
      "text/plain": [
<<<<<<< HEAD
       "'The accuracy score is: 48.67%'"
      ]
     },
     "execution_count": 37,
=======
       "'The accuracy score is: 40.46%'"
      ]
     },
     "execution_count": 31,
>>>>>>> 9490ef713f36a85d2177e918b3b73019aa7878df
     "metadata": {},
     "output_type": "execute_result"
    }
   ],
   "source": [
    "f'The accuracy score is: {round(accuracy_score(y_test, test_y_pred)*100, 2)}%'"
   ]
  },
  {
<<<<<<< HEAD
   "attachments": {},
=======
>>>>>>> 9490ef713f36a85d2177e918b3b73019aa7878df
   "cell_type": "markdown",
   "metadata": {},
   "source": [
    "# CNN classifier"
   ]
  },
  {
   "cell_type": "code",
<<<<<<< HEAD
   "execution_count": 39,
=======
   "execution_count": 32,
   "metadata": {},
   "outputs": [],
   "source": [
    "\"\"\"\n",
    "Function to plot the losses and accuracy\n",
    "for CNN model\n",
    "\"\"\"\n",
    "def plot_history(history):\n",
    "    acc = history.history['accuracy']\n",
    "    val_acc = history.history['val_accuracy']\n",
    "    loss = history.history['loss']\n",
    "    val_loss = history.history['val_loss']\n",
    "    x = range(1, len(acc) + 1)\n",
    "\n",
    "    plt.figure(figsize=(12, 5))\n",
    "    plt.subplot(1, 2, 1)\n",
    "    plt.plot(x, acc, 'b', label='Training acc')\n",
    "    plt.plot(x, val_acc, 'r', label='Validation acc')\n",
    "    plt.title('Training and validation accuracy')\n",
    "    plt.legend()\n",
    "    plt.subplot(1, 2, 2)\n",
    "    plt.plot(x, loss, 'b', label='Training loss')\n",
    "    plt.plot(x, val_loss, 'r', label='Validation loss')\n",
    "    plt.title('Training and validation loss')\n",
    "    plt.legend()"
   ]
  },
  {
   "cell_type": "code",
   "execution_count": 33,
>>>>>>> 9490ef713f36a85d2177e918b3b73019aa7878df
   "metadata": {},
   "outputs": [
    {
     "name": "stdout",
     "output_type": "stream",
     "text": [
      "\n",
      " * OneHot example\n",
      "[[0. 0. 0. ... 0. 0. 0.]\n",
      " [0. 0. 0. ... 0. 0. 0.]\n",
<<<<<<< HEAD
      " [0. 0. 1. ... 0. 0. 0.]\n",
      " ...\n",
      " [0. 0. 0. ... 0. 0. 0.]\n",
      " [0. 0. 0. ... 0. 0. 0.]\n",
      " [0. 0. 0. ... 0. 0. 0.]]\n",
      "\n",
      " * OneHot example\n",
      "[[0. 0. 0. ... 0. 0. 0.]\n",
      " [0. 0. 0. ... 1. 0. 0.]\n",
      " [0. 0. 0. ... 0. 0. 0.]\n",
=======
      " [0. 0. 0. ... 0. 0. 0.]\n",
      " ...\n",
      " [1. 0. 0. ... 0. 0. 0.]\n",
      " [0. 0. 0. ... 0. 0. 0.]\n",
      " [0. 0. 0. ... 0. 0. 1.]]\n",
      "\n",
      " * OneHot example\n",
      "[[0. 0. 0. ... 0. 0. 0.]\n",
      " [0. 0. 0. ... 0. 0. 0.]\n",
      " [1. 0. 0. ... 0. 0. 0.]\n",
>>>>>>> 9490ef713f36a85d2177e918b3b73019aa7878df
      " ...\n",
      " [0. 0. 0. ... 0. 0. 0.]\n",
      " [0. 0. 0. ... 0. 0. 0.]\n",
      " [0. 0. 0. ... 0. 0. 0.]]\n",
      "\n",
      " * OneHot example\n",
      "[[0. 0. 0. ... 0. 0. 0.]\n",
      " [0. 0. 0. ... 0. 0. 0.]\n",
<<<<<<< HEAD
      " [0. 0. 0. ... 0. 0. 1.]\n",
      " ...\n",
      " [0. 0. 0. ... 0. 0. 0.]\n",
      " [0. 0. 0. ... 0. 0. 0.]\n",
=======
      " [0. 0. 0. ... 0. 0. 0.]\n",
      " ...\n",
      " [0. 0. 0. ... 0. 0. 0.]\n",
      " [0. 0. 1. ... 0. 0. 0.]\n",
>>>>>>> 9490ef713f36a85d2177e918b3b73019aa7878df
      " [0. 0. 0. ... 0. 0. 0.]]\n"
     ]
    }
   ],
   "source": [
<<<<<<< HEAD
=======
    "def oneHot(dummy_labels):\n",
    "    le = preprocessing.LabelEncoder()\n",
    "    enc = OneHotEncoder()\n",
    "    \n",
    "    le.fit (dummy_labels)\n",
    "    y_dummy = le.fit_transform(dummy_labels)\n",
    "    y_dummy = y_dummy.reshape(-1, 1)\n",
    "    enc.fit(y_dummy)\n",
    "    y_dummy = enc.transform(y_dummy).toarray()\n",
    "    y_dummy = y_dummy.astype('float32')\n",
    "    print (\"\\n * OneHot example\")\n",
    "    print (y_dummy)\n",
    "    return (y_dummy)\n",
    "\n",
>>>>>>> 9490ef713f36a85d2177e918b3b73019aa7878df
    "y_train = oneHot(y_train)\n",
    "y_val = oneHot(y_val)\n",
    "y_test = oneHot(y_test)"
   ]
  },
  {
   "cell_type": "code",
<<<<<<< HEAD
   "execution_count": 40,
=======
   "execution_count": 34,
>>>>>>> 9490ef713f36a85d2177e918b3b73019aa7878df
   "metadata": {},
   "outputs": [
    {
     "data": {
      "text/plain": [
       "(1132, 10)"
      ]
     },
<<<<<<< HEAD
     "execution_count": 40,
=======
     "execution_count": 34,
>>>>>>> 9490ef713f36a85d2177e918b3b73019aa7878df
     "metadata": {},
     "output_type": "execute_result"
    }
   ],
   "source": [
    "y_test.shape"
   ]
  },
  {
   "cell_type": "code",
<<<<<<< HEAD
   "execution_count": 41,
=======
   "execution_count": 35,
>>>>>>> 9490ef713f36a85d2177e918b3b73019aa7878df
   "metadata": {},
   "outputs": [],
   "source": [
    "# input_dim = X_train.shape[1]  # Number of features\n",
    "max_length = max([len(s.split()) for s in df['clean_complaints']])\n",
    "# print(input_dim)\n",
    "\n",
    "tokenizer = Tokenizer(num_words=max_length)\n",
    "tokenizer.fit_on_texts(X_train)\n",
    "\n",
    "X_train_tokenized = tokenizer.texts_to_sequences(X_train)\n",
    "X_val_tokenized = tokenizer.texts_to_sequences(X_val)\n",
    "X_test_tokenized = tokenizer.texts_to_sequences(X_test)\n",
<<<<<<< HEAD
    "vocab_size = len(tokenizer.word_index) + 1"
=======
    "vocab_size = len(tokenizer.word_index) + 1\n",
    "# model = Sequential()\n",
    "# model.add(Embedding(input_dim, 100, input_length=max_length))\n",
    "# model.add(Conv1D(filters=32, kernel_size=8, activation='relu'))\n",
    "# model.add(MaxPooling1D(pool_size=2))\n",
    "# model.add(Flatten())\n",
    "# model.add(Dense(10, activation='relu'))\n",
    "# model.add(Dense(1, activation='softmax'))\n",
    "\n",
    "\n",
    "# model = Sequential()\n",
    "# x = layers.Embedding(max_length, embedding_dim)(X_train)\n",
    "# model.add(layers.Conv1D(128,7, input_dim=input_dim,activation='relu'))\n",
    "# model.add(layers.Dense(10, activation='softmax'))"
>>>>>>> 9490ef713f36a85d2177e918b3b73019aa7878df
   ]
  },
  {
   "cell_type": "code",
<<<<<<< HEAD
   "execution_count": 42,
=======
   "execution_count": 36,
>>>>>>> 9490ef713f36a85d2177e918b3b73019aa7878df
   "metadata": {},
   "outputs": [],
   "source": [
    "maxlen = 100\n",
    "\n",
    "X_train_tokenized = pad_sequences(X_train_tokenized, padding='post', maxlen=maxlen)\n",
    "X_val_tokenized = pad_sequences(X_val_tokenized, padding='post', maxlen=maxlen)\n",
    "X_test_tokenized = pad_sequences(X_test_tokenized, padding='post', maxlen=maxlen)"
   ]
  },
  {
   "cell_type": "code",
<<<<<<< HEAD
   "execution_count": 53,
=======
   "execution_count": 56,
>>>>>>> 9490ef713f36a85d2177e918b3b73019aa7878df
   "metadata": {},
   "outputs": [
    {
     "name": "stdout",
     "output_type": "stream",
     "text": [
<<<<<<< HEAD
      "Model: \"sequential_6\"\n",
      "_________________________________________________________________\n",
      "Layer (type)                 Output Shape              Param #   \n",
      "=================================================================\n",
      "embedding_6 (Embedding)      (None, 100, 100)          1227000   \n",
=======
      "Model: \"sequential_4\"\n",
      "_________________________________________________________________\n",
      "Layer (type)                 Output Shape              Param #   \n",
      "=================================================================\n",
      "embedding_4 (Embedding)      (None, 100, 100)          1357100   \n",
>>>>>>> 9490ef713f36a85d2177e918b3b73019aa7878df
      "_________________________________________________________________\n",
      "conv1d_16 (Conv1D)           (None, 96, 128)           64128     \n",
      "_________________________________________________________________\n",
      "batch_normalization_16 (Batc (None, 96, 128)           512       \n",
      "_________________________________________________________________\n",
      "dropout_16 (Dropout)         (None, 96, 128)           0         \n",
      "_________________________________________________________________\n",
      "conv1d_17 (Conv1D)           (None, 92, 128)           82048     \n",
      "_________________________________________________________________\n",
      "batch_normalization_17 (Batc (None, 92, 128)           512       \n",
      "_________________________________________________________________\n",
      "dropout_17 (Dropout)         (None, 92, 128)           0         \n",
      "_________________________________________________________________\n",
      "conv1d_18 (Conv1D)           (None, 88, 128)           82048     \n",
      "_________________________________________________________________\n",
      "batch_normalization_18 (Batc (None, 88, 128)           512       \n",
      "_________________________________________________________________\n",
      "dropout_18 (Dropout)         (None, 88, 128)           0         \n",
      "_________________________________________________________________\n",
      "conv1d_19 (Conv1D)           (None, 84, 128)           82048     \n",
      "_________________________________________________________________\n",
      "batch_normalization_19 (Batc (None, 84, 128)           512       \n",
      "_________________________________________________________________\n",
      "dropout_19 (Dropout)         (None, 84, 128)           0         \n",
      "_________________________________________________________________\n",
      "global_max_pooling1d_4 (Glob (None, 128)               0         \n",
      "_________________________________________________________________\n",
      "dense_8 (Dense)              (None, 32)                4128      \n",
      "_________________________________________________________________\n",
      "dense_9 (Dense)              (None, 10)                330       \n",
      "=================================================================\n",
<<<<<<< HEAD
      "Total params: 1,543,778\n",
      "Trainable params: 1,542,754\n",
=======
      "Total params: 1,673,878\n",
      "Trainable params: 1,672,854\n",
>>>>>>> 9490ef713f36a85d2177e918b3b73019aa7878df
      "Non-trainable params: 1,024\n",
      "_________________________________________________________________\n"
     ]
    }
   ],
   "source": [
    "embedding_dim = 100\n",
    "\n",
<<<<<<< HEAD
    "def CNNModel(vocab_size,embedding_dim,max_length):\n",
    "    model = Sequential()\n",
    "    model.add(layers.Embedding(vocab_size, embedding_dim, input_length=maxlen))\n",
    "    model.add(layers.Conv1D(128, 5, activation='relu'))\n",
    "    model.add(layers.BatchNormalization())\n",
    "    model.add(layers.Dropout(0.1))\n",
    "    # model.add(layers.GlobalMaxPooling1D())\n",
    "    model.add(layers.Conv1D(128, 5, activation='relu'))\n",
    "    model.add(layers.BatchNormalization())\n",
    "    model.add(layers.Dropout(0.1))\n",
    "    # model.add(layers.GlobalMaxPooling1D())\n",
    "    model.add(layers.Conv1D(128, 5, activation='relu'))\n",
    "    model.add(layers.BatchNormalization())\n",
    "    model.add(layers.Dropout(0.1))\n",
    "    model.add(layers.Conv1D(128, 5, activation='relu'))\n",
    "    model.add(layers.BatchNormalization())\n",
    "    model.add(layers.Dropout(0.1))\n",
    "    # model.add(layers.GlobalMaxPooling1D())\n",
    "    # model.add(layers.Conv1D(128, 5, activation='relu'))\n",
    "    # model.add(layers.BatchNormalization())\n",
    "    # model.add(layers.Dropout(0.1))\n",
    "    model.add(layers.GlobalMaxPooling1D())\n",
    "    model.add(layers.Dense(32, activation='relu'))\n",
    "    model.add(layers.Dense(10, activation='softmax'))\n",
    "    return model\n",
    "\n",
    "\n",
    "model = CNNModel(vocab_size,embedding_dim,maxlen)\n",
=======
    "model = Sequential()\n",
    "model.add(layers.Embedding(vocab_size, embedding_dim, input_length=maxlen))\n",
    "model.add(layers.Conv1D(128, 5, activation='relu'))\n",
    "model.add(layers.BatchNormalization())\n",
    "model.add(layers.Dropout(0.1))\n",
    "# model.add(layers.GlobalMaxPooling1D())\n",
    "model.add(layers.Conv1D(128, 5, activation='relu'))\n",
    "model.add(layers.BatchNormalization())\n",
    "model.add(layers.Dropout(0.1))\n",
    "# model.add(layers.GlobalMaxPooling1D())\n",
    "model.add(layers.Conv1D(128, 5, activation='relu'))\n",
    "model.add(layers.BatchNormalization())\n",
    "model.add(layers.Dropout(0.1))\n",
    "model.add(layers.Conv1D(128, 5, activation='relu'))\n",
    "model.add(layers.BatchNormalization())\n",
    "model.add(layers.Dropout(0.1))\n",
    "# model.add(layers.GlobalMaxPooling1D())\n",
    "# model.add(layers.Conv1D(128, 5, activation='relu'))\n",
    "# model.add(layers.BatchNormalization())\n",
    "# model.add(layers.Dropout(0.1))\n",
    "model.add(layers.GlobalMaxPooling1D())\n",
    "model.add(layers.Dense(32, activation='relu'))\n",
    "model.add(layers.Dense(10, activation='softmax'))\n",
>>>>>>> 9490ef713f36a85d2177e918b3b73019aa7878df
    "model.compile(optimizer='adam',\n",
    "              loss='categorical_crossentropy',\n",
    "              metrics=['accuracy'])\n",
    "model.summary()"
   ]
  },
  {
   "cell_type": "code",
<<<<<<< HEAD
   "execution_count": 54,
=======
   "execution_count": 57,
>>>>>>> 9490ef713f36a85d2177e918b3b73019aa7878df
   "metadata": {},
   "outputs": [
    {
     "name": "stdout",
     "output_type": "stream",
     "text": [
<<<<<<< HEAD
      "107/107 [==============================] - 2s 15ms/step - loss: 0.0021 - accuracy: 1.0000\n",
      "Training Accuracy: 1.0000\n",
      "36/36 [==============================] - 1s 15ms/step - loss: 1.9216 - accuracy: 0.6784\n",
      "Test Accuracy:  0.6784\n"
=======
      "107/107 [==============================] - 1s 13ms/step - loss: 8.8074e-04 - accuracy: 1.0000\n",
      "Training Accuracy: 1.0000\n",
      "36/36 [==============================] - 0s 13ms/step - loss: 2.1759 - accuracy: 0.5928\n",
      "Test Accuracy:  0.5928\n"
>>>>>>> 9490ef713f36a85d2177e918b3b73019aa7878df
     ]
    }
   ],
   "source": [
    "history = model.fit(X_train_tokenized, y_train,\n",
    "                    epochs=30,\n",
    "                    verbose=False,\n",
    "                    shuffle=True,\n",
    "                    validation_data=(X_val_tokenized, y_val),\n",
    "                    batch_size=100)\n",
    "loss, accuracy = model.evaluate(X_train_tokenized, y_train, verbose=True)\n",
    "print(\"Training Accuracy: {:.4f}\".format(accuracy))\n",
    "loss, accuracy = model.evaluate(X_test_tokenized, y_test, verbose=True)\n",
    "print(\"Test Accuracy:  {:.4f}\".format(accuracy))\n",
    "# plot_history(history)"
   ]
  },
  {
   "cell_type": "code",
<<<<<<< HEAD
   "execution_count": 55,
=======
   "execution_count": 58,
>>>>>>> 9490ef713f36a85d2177e918b3b73019aa7878df
   "metadata": {},
   "outputs": [
    {
     "data": {
<<<<<<< HEAD
      "image/png": "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",
=======
      "image/png": "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\n",
>>>>>>> 9490ef713f36a85d2177e918b3b73019aa7878df
      "text/plain": [
       "<Figure size 864x360 with 2 Axes>"
      ]
     },
     "metadata": {
      "needs_background": "light"
     },
     "output_type": "display_data"
    }
   ],
   "source": [
    "plot_history(history)"
   ]
  },
  {
   "cell_type": "code",
   "execution_count": null,
   "metadata": {},
   "outputs": [],
   "source": []
  }
 ],
 "metadata": {
  "kernelspec": {
   "display_name": "3point8",
   "language": "python",
   "name": "3point8"
  },
  "language_info": {
   "codemirror_mode": {
    "name": "ipython",
    "version": 3
   },
   "file_extension": ".py",
   "mimetype": "text/x-python",
   "name": "python",
   "nbconvert_exporter": "python",
   "pygments_lexer": "ipython3",
   "version": "3.6.3"
  }
 },
 "nbformat": 4,
 "nbformat_minor": 2
}
