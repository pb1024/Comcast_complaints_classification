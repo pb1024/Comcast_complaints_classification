{
 "cells": [
  {
   "cell_type": "code",
   "execution_count": 1,
   "metadata": {},
   "outputs": [
    {
     "name": "stderr",
     "output_type": "stream",
     "text": [
      "C:\\Users\\parth\\Anaconda3\\lib\\site-packages\\sklearn\\ensemble\\weight_boosting.py:29: DeprecationWarning: numpy.core.umath_tests is an internal NumPy module and should not be imported. It will be removed in a future NumPy release.\n",
      "  from numpy.core.umath_tests import inner1d\n"
     ]
    }
   ],
   "source": [
    "import pandas as pd\n",
    "import numpy as np\n",
    "from scipy import stats\n",
    "import calendar\n",
    "import datetime\n",
    "#Libraries for Visualization\n",
    "import matplotlib.pyplot as plt\n",
    "import seaborn as sns\n",
    "import re\n",
    "#nltk.download('wordnet')\n",
    "#Supress warnings\n",
    "import warnings\n",
    "warnings.filterwarnings('ignore')\n",
    "from sklearn.model_selection import train_test_split\n",
    "from nltk.stem import WordNetLemmatizer\n",
    "from sklearn.feature_extraction.text import TfidfVectorizer, CountVectorizer\n",
    "from sklearn.naive_bayes import GaussianNB\n",
    "from sklearn import svm\n",
    "from sklearn.ensemble import RandomForestClassifier\n",
    "from sklearn.tree import DecisionTreeClassifier\n",
    "from sklearn.neighbors import KNeighborsClassifier\n",
    "from sklearn.ensemble import GradientBoostingClassifier\n",
    "from sklearn import preprocessing\n",
    "from sklearn.preprocessing import OneHotEncoder,LabelEncoder\n",
    "from xgboost import XGBClassifier\n",
    "import tensorflow as tf\n",
    "import keras\n",
    "from sklearn.metrics import classification_report, accuracy_score, confusion_matrix, recall_score\n",
    "import imp\n",
    "from collections import defaultdict\n",
    "\n",
    "\n",
    "from keras.models import Sequential\n",
    "from keras import layers\n",
    "from keras.layers import Flatten\n",
    "from keras.layers import Embedding\n",
    "from keras.layers.convolutional import Conv1D\n",
    "from keras.layers.convolutional import MaxPooling1D\n",
    "from keras.layers import Dense\n",
    "from tensorflow.keras.preprocessing.text import Tokenizer\n",
    "from tensorflow.keras.preprocessing.sequence import pad_sequences"
   ]
  },
  {
   "cell_type": "code",
   "execution_count": 2,
   "metadata": {},
   "outputs": [],
   "source": [
    "#Import comcast telecom complaints data\n",
    "df = pd.read_csv(\"data/comcast_consumeraffairs_complaints.csv\")"
   ]
  },
  {
   "cell_type": "code",
   "execution_count": 3,
   "metadata": {},
   "outputs": [
    {
     "data": {
      "text/html": [
       "<div>\n",
       "<style scoped>\n",
       "    .dataframe tbody tr th:only-of-type {\n",
       "        vertical-align: middle;\n",
       "    }\n",
       "\n",
       "    .dataframe tbody tr th {\n",
       "        vertical-align: top;\n",
       "    }\n",
       "\n",
       "    .dataframe thead th {\n",
       "        text-align: right;\n",
       "    }\n",
       "</style>\n",
       "<table border=\"1\" class=\"dataframe\">\n",
       "  <thead>\n",
       "    <tr style=\"text-align: right;\">\n",
       "      <th></th>\n",
       "      <th>author</th>\n",
       "      <th>posted_on</th>\n",
       "      <th>rating</th>\n",
       "      <th>text</th>\n",
       "    </tr>\n",
       "  </thead>\n",
       "  <tbody>\n",
       "    <tr>\n",
       "      <th>0</th>\n",
       "      <td>Alantae of Chesterfeild, MI</td>\n",
       "      <td>Nov. 22, 2016</td>\n",
       "      <td>1</td>\n",
       "      <td>I used to love Comcast. Until all these consta...</td>\n",
       "    </tr>\n",
       "    <tr>\n",
       "      <th>1</th>\n",
       "      <td>Vera of Philadelphia, PA</td>\n",
       "      <td>Nov. 19, 2016</td>\n",
       "      <td>1</td>\n",
       "      <td>I'm so over Comcast! The worst internet provid...</td>\n",
       "    </tr>\n",
       "    <tr>\n",
       "      <th>2</th>\n",
       "      <td>Sarah of Rancho Cordova, CA</td>\n",
       "      <td>Nov. 17, 2016</td>\n",
       "      <td>1</td>\n",
       "      <td>If I could give them a negative star or no sta...</td>\n",
       "    </tr>\n",
       "    <tr>\n",
       "      <th>3</th>\n",
       "      <td>Dennis of Manchester, NH</td>\n",
       "      <td>Nov. 16, 2016</td>\n",
       "      <td>1</td>\n",
       "      <td>I've had the worst experiences so far since in...</td>\n",
       "    </tr>\n",
       "    <tr>\n",
       "      <th>4</th>\n",
       "      <td>Ryan of Bellevue, WA</td>\n",
       "      <td>Nov. 14, 2016</td>\n",
       "      <td>1</td>\n",
       "      <td>Check your contract when you sign up for Comca...</td>\n",
       "    </tr>\n",
       "    <tr>\n",
       "      <th>...</th>\n",
       "      <td>...</td>\n",
       "      <td>...</td>\n",
       "      <td>...</td>\n",
       "      <td>...</td>\n",
       "    </tr>\n",
       "    <tr>\n",
       "      <th>5654</th>\n",
       "      <td>Brandye of San Ramon, CA</td>\n",
       "      <td>March 12, 2006</td>\n",
       "      <td>0</td>\n",
       "      <td>Last year, we bought the Nascar In Car package...</td>\n",
       "    </tr>\n",
       "    <tr>\n",
       "      <th>5655</th>\n",
       "      <td>Paul of Chicago, IL</td>\n",
       "      <td>March 12, 2006</td>\n",
       "      <td>0</td>\n",
       "      <td>Their billing department is horrid. If you dec...</td>\n",
       "    </tr>\n",
       "    <tr>\n",
       "      <th>5656</th>\n",
       "      <td>Autumn of Knoxville, TN</td>\n",
       "      <td>March 6, 2006</td>\n",
       "      <td>0</td>\n",
       "      <td>Ordered \"On Demand\" movie for the 1st time in ...</td>\n",
       "    </tr>\n",
       "    <tr>\n",
       "      <th>5657</th>\n",
       "      <td>Tina of Villa Rica, GA</td>\n",
       "      <td>Feb. 22, 2006</td>\n",
       "      <td>0</td>\n",
       "      <td>I am being ripped of by Comcast Cable regardin...</td>\n",
       "    </tr>\n",
       "    <tr>\n",
       "      <th>5658</th>\n",
       "      <td>John of Lilburn, GA</td>\n",
       "      <td>Feb. 19, 2006</td>\n",
       "      <td>0</td>\n",
       "      <td>I have had AT&amp;T/Comcast services, digital TV, ...</td>\n",
       "    </tr>\n",
       "  </tbody>\n",
       "</table>\n",
       "<p>5659 rows × 4 columns</p>\n",
       "</div>"
      ],
      "text/plain": [
       "                           author       posted_on  rating  \\\n",
       "0     Alantae of Chesterfeild, MI   Nov. 22, 2016       1   \n",
       "1        Vera of Philadelphia, PA   Nov. 19, 2016       1   \n",
       "2     Sarah of Rancho Cordova, CA   Nov. 17, 2016       1   \n",
       "3        Dennis of Manchester, NH   Nov. 16, 2016       1   \n",
       "4            Ryan of Bellevue, WA   Nov. 14, 2016       1   \n",
       "...                           ...             ...     ...   \n",
       "5654     Brandye of San Ramon, CA  March 12, 2006       0   \n",
       "5655          Paul of Chicago, IL  March 12, 2006       0   \n",
       "5656      Autumn of Knoxville, TN   March 6, 2006       0   \n",
       "5657       Tina of Villa Rica, GA   Feb. 22, 2006       0   \n",
       "5658          John of Lilburn, GA   Feb. 19, 2006       0   \n",
       "\n",
       "                                                   text  \n",
       "0     I used to love Comcast. Until all these consta...  \n",
       "1     I'm so over Comcast! The worst internet provid...  \n",
       "2     If I could give them a negative star or no sta...  \n",
       "3     I've had the worst experiences so far since in...  \n",
       "4     Check your contract when you sign up for Comca...  \n",
       "...                                                 ...  \n",
       "5654  Last year, we bought the Nascar In Car package...  \n",
       "5655  Their billing department is horrid. If you dec...  \n",
       "5656  Ordered \"On Demand\" movie for the 1st time in ...  \n",
       "5657  I am being ripped of by Comcast Cable regardin...  \n",
       "5658  I have had AT&T/Comcast services, digital TV, ...  \n",
       "\n",
       "[5659 rows x 4 columns]"
      ]
     },
     "execution_count": 3,
     "metadata": {},
     "output_type": "execute_result"
    }
   ],
   "source": [
    "df"
   ]
  },
  {
   "cell_type": "code",
   "execution_count": 4,
   "metadata": {},
   "outputs": [],
   "source": [
    "df['text'] = df['text'].astype(str)"
   ]
  },
  {
   "cell_type": "code",
   "execution_count": 5,
   "metadata": {},
   "outputs": [],
   "source": [
    "def clean_str(string):\n",
    "    \"\"\"\n",
    "    Perform string cleaning for text data\n",
    "    by removing special characters \n",
    "    and converting to lower case\n",
    "    \"\"\"\n",
    "    string = re.sub(r\"[^A-Za-z0-9()!?\\'\\`%$]\", \" \", string) # keep also %$ but removed comma\n",
    "    string = re.sub(r\"\\'s\", \" \\'s\", string)\n",
    "    string = re.sub(r\"\\'ve\", \" \\'ve\", string)\n",
    "    string = re.sub(r\"n\\'t\", \" n\\'t\", string)\n",
    "    string = re.sub(r\"\\'re\", \" \\'re\", string)\n",
    "    string = re.sub(r\"\\'d\", \" \\'d\", string)\n",
    "    string = re.sub(r\"\\'ll\", \" \\'ll\", string)\n",
    "    string = re.sub(r\"!\", \" ! \", string)\n",
    "    string = re.sub(r\"\\(\", \" ( \", string)\n",
    "    string = re.sub(r\"\\)\", \" ) \", string)\n",
    "    string = re.sub(r\"\\?\", \" ? \", string)\n",
    "    string = re.sub(r\"\\$\", \" $ \", string) #yes, isolate $\n",
    "    string = re.sub(r\"\\%\", \" % \", string) #yes, isolate %\n",
    "    string = re.sub(r\"\\s{2,}\", \" \", string)\n",
    "    \n",
    "    # removing non ascii\n",
    "    string = re.sub(r'[^\\x00-\\x7F]+', \"\", string)\n",
    "        \n",
    "    return string.strip().lower()"
   ]
  },
  {
   "cell_type": "code",
   "execution_count": 6,
   "metadata": {},
   "outputs": [],
   "source": [
    "df['clean_complaints']=df['text'].apply(lambda x : clean_str(x))\n",
    "#     message.dtype"
   ]
  },
  {
   "cell_type": "code",
   "execution_count": 7,
   "metadata": {},
   "outputs": [
    {
     "data": {
      "text/html": [
       "<div>\n",
       "<style scoped>\n",
       "    .dataframe tbody tr th:only-of-type {\n",
       "        vertical-align: middle;\n",
       "    }\n",
       "\n",
       "    .dataframe tbody tr th {\n",
       "        vertical-align: top;\n",
       "    }\n",
       "\n",
       "    .dataframe thead th {\n",
       "        text-align: right;\n",
       "    }\n",
       "</style>\n",
       "<table border=\"1\" class=\"dataframe\">\n",
       "  <thead>\n",
       "    <tr style=\"text-align: right;\">\n",
       "      <th></th>\n",
       "      <th>author</th>\n",
       "      <th>posted_on</th>\n",
       "      <th>rating</th>\n",
       "      <th>text</th>\n",
       "      <th>clean_complaints</th>\n",
       "    </tr>\n",
       "  </thead>\n",
       "  <tbody>\n",
       "    <tr>\n",
       "      <th>0</th>\n",
       "      <td>Alantae of Chesterfeild, MI</td>\n",
       "      <td>Nov. 22, 2016</td>\n",
       "      <td>1</td>\n",
       "      <td>I used to love Comcast. Until all these consta...</td>\n",
       "      <td>i used to love comcast until all these constan...</td>\n",
       "    </tr>\n",
       "    <tr>\n",
       "      <th>1</th>\n",
       "      <td>Vera of Philadelphia, PA</td>\n",
       "      <td>Nov. 19, 2016</td>\n",
       "      <td>1</td>\n",
       "      <td>I'm so over Comcast! The worst internet provid...</td>\n",
       "      <td>i'm so over comcast ! the worst internet provi...</td>\n",
       "    </tr>\n",
       "    <tr>\n",
       "      <th>2</th>\n",
       "      <td>Sarah of Rancho Cordova, CA</td>\n",
       "      <td>Nov. 17, 2016</td>\n",
       "      <td>1</td>\n",
       "      <td>If I could give them a negative star or no sta...</td>\n",
       "      <td>if i could give them a negative star or no sta...</td>\n",
       "    </tr>\n",
       "    <tr>\n",
       "      <th>3</th>\n",
       "      <td>Dennis of Manchester, NH</td>\n",
       "      <td>Nov. 16, 2016</td>\n",
       "      <td>1</td>\n",
       "      <td>I've had the worst experiences so far since in...</td>\n",
       "      <td>i 've had the worst experiences so far since i...</td>\n",
       "    </tr>\n",
       "    <tr>\n",
       "      <th>4</th>\n",
       "      <td>Ryan of Bellevue, WA</td>\n",
       "      <td>Nov. 14, 2016</td>\n",
       "      <td>1</td>\n",
       "      <td>Check your contract when you sign up for Comca...</td>\n",
       "      <td>check your contract when you sign up for comca...</td>\n",
       "    </tr>\n",
       "    <tr>\n",
       "      <th>...</th>\n",
       "      <td>...</td>\n",
       "      <td>...</td>\n",
       "      <td>...</td>\n",
       "      <td>...</td>\n",
       "      <td>...</td>\n",
       "    </tr>\n",
       "    <tr>\n",
       "      <th>5654</th>\n",
       "      <td>Brandye of San Ramon, CA</td>\n",
       "      <td>March 12, 2006</td>\n",
       "      <td>0</td>\n",
       "      <td>Last year, we bought the Nascar In Car package...</td>\n",
       "      <td>last year we bought the nascar in car package ...</td>\n",
       "    </tr>\n",
       "    <tr>\n",
       "      <th>5655</th>\n",
       "      <td>Paul of Chicago, IL</td>\n",
       "      <td>March 12, 2006</td>\n",
       "      <td>0</td>\n",
       "      <td>Their billing department is horrid. If you dec...</td>\n",
       "      <td>their billing department is horrid if you deci...</td>\n",
       "    </tr>\n",
       "    <tr>\n",
       "      <th>5656</th>\n",
       "      <td>Autumn of Knoxville, TN</td>\n",
       "      <td>March 6, 2006</td>\n",
       "      <td>0</td>\n",
       "      <td>Ordered \"On Demand\" movie for the 1st time in ...</td>\n",
       "      <td>ordered on demand movie for the 1st time in no...</td>\n",
       "    </tr>\n",
       "    <tr>\n",
       "      <th>5657</th>\n",
       "      <td>Tina of Villa Rica, GA</td>\n",
       "      <td>Feb. 22, 2006</td>\n",
       "      <td>0</td>\n",
       "      <td>I am being ripped of by Comcast Cable regardin...</td>\n",
       "      <td>i am being ripped of by comcast cable regardin...</td>\n",
       "    </tr>\n",
       "    <tr>\n",
       "      <th>5658</th>\n",
       "      <td>John of Lilburn, GA</td>\n",
       "      <td>Feb. 19, 2006</td>\n",
       "      <td>0</td>\n",
       "      <td>I have had AT&amp;T/Comcast services, digital TV, ...</td>\n",
       "      <td>i have had at t comcast services digital tv hi...</td>\n",
       "    </tr>\n",
       "  </tbody>\n",
       "</table>\n",
       "<p>5659 rows × 5 columns</p>\n",
       "</div>"
      ],
      "text/plain": [
       "                           author       posted_on  rating  \\\n",
       "0     Alantae of Chesterfeild, MI   Nov. 22, 2016       1   \n",
       "1        Vera of Philadelphia, PA   Nov. 19, 2016       1   \n",
       "2     Sarah of Rancho Cordova, CA   Nov. 17, 2016       1   \n",
       "3        Dennis of Manchester, NH   Nov. 16, 2016       1   \n",
       "4            Ryan of Bellevue, WA   Nov. 14, 2016       1   \n",
       "...                           ...             ...     ...   \n",
       "5654     Brandye of San Ramon, CA  March 12, 2006       0   \n",
       "5655          Paul of Chicago, IL  March 12, 2006       0   \n",
       "5656      Autumn of Knoxville, TN   March 6, 2006       0   \n",
       "5657       Tina of Villa Rica, GA   Feb. 22, 2006       0   \n",
       "5658          John of Lilburn, GA   Feb. 19, 2006       0   \n",
       "\n",
       "                                                   text  \\\n",
       "0     I used to love Comcast. Until all these consta...   \n",
       "1     I'm so over Comcast! The worst internet provid...   \n",
       "2     If I could give them a negative star or no sta...   \n",
       "3     I've had the worst experiences so far since in...   \n",
       "4     Check your contract when you sign up for Comca...   \n",
       "...                                                 ...   \n",
       "5654  Last year, we bought the Nascar In Car package...   \n",
       "5655  Their billing department is horrid. If you dec...   \n",
       "5656  Ordered \"On Demand\" movie for the 1st time in ...   \n",
       "5657  I am being ripped of by Comcast Cable regardin...   \n",
       "5658  I have had AT&T/Comcast services, digital TV, ...   \n",
       "\n",
       "                                       clean_complaints  \n",
       "0     i used to love comcast until all these constan...  \n",
       "1     i'm so over comcast ! the worst internet provi...  \n",
       "2     if i could give them a negative star or no sta...  \n",
       "3     i 've had the worst experiences so far since i...  \n",
       "4     check your contract when you sign up for comca...  \n",
       "...                                                 ...  \n",
       "5654  last year we bought the nascar in car package ...  \n",
       "5655  their billing department is horrid if you deci...  \n",
       "5656  ordered on demand movie for the 1st time in no...  \n",
       "5657  i am being ripped of by comcast cable regardin...  \n",
       "5658  i have had at t comcast services digital tv hi...  \n",
       "\n",
       "[5659 rows x 5 columns]"
      ]
     },
     "execution_count": 7,
     "metadata": {},
     "output_type": "execute_result"
    }
   ],
   "source": [
    "df"
   ]
  },
  {
   "cell_type": "code",
   "execution_count": 8,
   "metadata": {},
   "outputs": [],
   "source": [
    "## Create labels for the data set\n",
    "\n",
    "df['complaint_type'] = 'Others'\n",
    "cond = (df['clean_complaints'].str.contains('internet'))|(df['clean_complaints'].str.contains('data'))\n",
    "df.loc[cond, 'complaint_type'] = 'Internet'\n",
    "cond1 = (df['clean_complaints'].str.contains('network'))|(df['clean_complaints'].str.contains('online'))\n",
    "df.loc[cond1, 'complaint_type'] = 'Network'\n",
    "#build complaint type as account based on keywords\n",
    "cond2 = (df['clean_complaints'].str.contains('account'))|(df['clean_complaints'].str.contains('comcast'))|(df['clean_complaints'].str.contains('business'))\n",
    "df.loc[cond2, 'complaint_type'] = 'Account'\n",
    "cond3 = (df['clean_complaints'].str.contains('bill'))\n",
    "df.loc[cond3, 'complaint_type'] = 'Billing Issues'\n",
    "cond3 = (df['clean_complaints'].str.contains('customer'))|(df['clean_complaints'].str.contains('service'))\n",
    "df.loc[cond3, 'complaint_type'] = 'Customer Service'\n",
    "cond4 = (df['clean_complaints'].str.contains('speed'))|(df['clean_complaints'].str.contains('cap'))\n",
    "df.loc[cond4, 'complaint_type'] = 'Slow internet'\n",
    "cond5 = (df['clean_complaints'].str.contains('bandwith'))|(df['clean_complaints'].str.contains('connect'))|(df['clean_complaints'].str.contains('disconnect'))\n",
    "df.loc[cond5, 'complaint_type'] = 'Connectivity issues'\n",
    "cond6 = (df['clean_complaints'].str.contains('cancellation'))|(df['clean_complaints'].str.contains('package'))|(df['clean_complaints'].str.contains('money'))\n",
    "df.loc[cond6, 'complaint_type'] = 'Financial Issues'\n",
    "cond7 = (df['clean_complaints'].str.contains('disruption'))|(df['clean_complaints'].str.contains('outage'))|(df['clean_complaints'].str.contains('reception'))\n",
    "df.loc[cond7, 'complaint_type'] = 'Connectivity Issues'"
   ]
  },
  {
   "cell_type": "code",
   "execution_count": 9,
   "metadata": {},
   "outputs": [
    {
     "data": {
      "text/html": [
       "<div>\n",
       "<style scoped>\n",
       "    .dataframe tbody tr th:only-of-type {\n",
       "        vertical-align: middle;\n",
       "    }\n",
       "\n",
       "    .dataframe tbody tr th {\n",
       "        vertical-align: top;\n",
       "    }\n",
       "\n",
       "    .dataframe thead th {\n",
       "        text-align: right;\n",
       "    }\n",
       "</style>\n",
       "<table border=\"1\" class=\"dataframe\">\n",
       "  <thead>\n",
       "    <tr style=\"text-align: right;\">\n",
       "      <th></th>\n",
       "      <th>author</th>\n",
       "      <th>posted_on</th>\n",
       "      <th>rating</th>\n",
       "      <th>text</th>\n",
       "      <th>clean_complaints</th>\n",
       "      <th>complaint_type</th>\n",
       "    </tr>\n",
       "  </thead>\n",
       "  <tbody>\n",
       "    <tr>\n",
       "      <th>0</th>\n",
       "      <td>Alantae of Chesterfeild, MI</td>\n",
       "      <td>Nov. 22, 2016</td>\n",
       "      <td>1</td>\n",
       "      <td>I used to love Comcast. Until all these consta...</td>\n",
       "      <td>i used to love comcast until all these constan...</td>\n",
       "      <td>Account</td>\n",
       "    </tr>\n",
       "    <tr>\n",
       "      <th>1</th>\n",
       "      <td>Vera of Philadelphia, PA</td>\n",
       "      <td>Nov. 19, 2016</td>\n",
       "      <td>1</td>\n",
       "      <td>I'm so over Comcast! The worst internet provid...</td>\n",
       "      <td>i'm so over comcast ! the worst internet provi...</td>\n",
       "      <td>Customer Service</td>\n",
       "    </tr>\n",
       "    <tr>\n",
       "      <th>2</th>\n",
       "      <td>Sarah of Rancho Cordova, CA</td>\n",
       "      <td>Nov. 17, 2016</td>\n",
       "      <td>1</td>\n",
       "      <td>If I could give them a negative star or no sta...</td>\n",
       "      <td>if i could give them a negative star or no sta...</td>\n",
       "      <td>Financial Issues</td>\n",
       "    </tr>\n",
       "    <tr>\n",
       "      <th>3</th>\n",
       "      <td>Dennis of Manchester, NH</td>\n",
       "      <td>Nov. 16, 2016</td>\n",
       "      <td>1</td>\n",
       "      <td>I've had the worst experiences so far since in...</td>\n",
       "      <td>i 've had the worst experiences so far since i...</td>\n",
       "      <td>Financial Issues</td>\n",
       "    </tr>\n",
       "    <tr>\n",
       "      <th>4</th>\n",
       "      <td>Ryan of Bellevue, WA</td>\n",
       "      <td>Nov. 14, 2016</td>\n",
       "      <td>1</td>\n",
       "      <td>Check your contract when you sign up for Comca...</td>\n",
       "      <td>check your contract when you sign up for comca...</td>\n",
       "      <td>Account</td>\n",
       "    </tr>\n",
       "    <tr>\n",
       "      <th>...</th>\n",
       "      <td>...</td>\n",
       "      <td>...</td>\n",
       "      <td>...</td>\n",
       "      <td>...</td>\n",
       "      <td>...</td>\n",
       "      <td>...</td>\n",
       "    </tr>\n",
       "    <tr>\n",
       "      <th>5654</th>\n",
       "      <td>Brandye of San Ramon, CA</td>\n",
       "      <td>March 12, 2006</td>\n",
       "      <td>0</td>\n",
       "      <td>Last year, we bought the Nascar In Car package...</td>\n",
       "      <td>last year we bought the nascar in car package ...</td>\n",
       "      <td>Financial Issues</td>\n",
       "    </tr>\n",
       "    <tr>\n",
       "      <th>5655</th>\n",
       "      <td>Paul of Chicago, IL</td>\n",
       "      <td>March 12, 2006</td>\n",
       "      <td>0</td>\n",
       "      <td>Their billing department is horrid. If you dec...</td>\n",
       "      <td>their billing department is horrid if you deci...</td>\n",
       "      <td>Financial Issues</td>\n",
       "    </tr>\n",
       "    <tr>\n",
       "      <th>5656</th>\n",
       "      <td>Autumn of Knoxville, TN</td>\n",
       "      <td>March 6, 2006</td>\n",
       "      <td>0</td>\n",
       "      <td>Ordered \"On Demand\" movie for the 1st time in ...</td>\n",
       "      <td>ordered on demand movie for the 1st time in no...</td>\n",
       "      <td>Financial Issues</td>\n",
       "    </tr>\n",
       "    <tr>\n",
       "      <th>5657</th>\n",
       "      <td>Tina of Villa Rica, GA</td>\n",
       "      <td>Feb. 22, 2006</td>\n",
       "      <td>0</td>\n",
       "      <td>I am being ripped of by Comcast Cable regardin...</td>\n",
       "      <td>i am being ripped of by comcast cable regardin...</td>\n",
       "      <td>Customer Service</td>\n",
       "    </tr>\n",
       "    <tr>\n",
       "      <th>5658</th>\n",
       "      <td>John of Lilburn, GA</td>\n",
       "      <td>Feb. 19, 2006</td>\n",
       "      <td>0</td>\n",
       "      <td>I have had AT&amp;T/Comcast services, digital TV, ...</td>\n",
       "      <td>i have had at t comcast services digital tv hi...</td>\n",
       "      <td>Connectivity Issues</td>\n",
       "    </tr>\n",
       "  </tbody>\n",
       "</table>\n",
       "<p>5659 rows × 6 columns</p>\n",
       "</div>"
      ],
      "text/plain": [
       "                           author       posted_on  rating  \\\n",
       "0     Alantae of Chesterfeild, MI   Nov. 22, 2016       1   \n",
       "1        Vera of Philadelphia, PA   Nov. 19, 2016       1   \n",
       "2     Sarah of Rancho Cordova, CA   Nov. 17, 2016       1   \n",
       "3        Dennis of Manchester, NH   Nov. 16, 2016       1   \n",
       "4            Ryan of Bellevue, WA   Nov. 14, 2016       1   \n",
       "...                           ...             ...     ...   \n",
       "5654     Brandye of San Ramon, CA  March 12, 2006       0   \n",
       "5655          Paul of Chicago, IL  March 12, 2006       0   \n",
       "5656      Autumn of Knoxville, TN   March 6, 2006       0   \n",
       "5657       Tina of Villa Rica, GA   Feb. 22, 2006       0   \n",
       "5658          John of Lilburn, GA   Feb. 19, 2006       0   \n",
       "\n",
       "                                                   text  \\\n",
       "0     I used to love Comcast. Until all these consta...   \n",
       "1     I'm so over Comcast! The worst internet provid...   \n",
       "2     If I could give them a negative star or no sta...   \n",
       "3     I've had the worst experiences so far since in...   \n",
       "4     Check your contract when you sign up for Comca...   \n",
       "...                                                 ...   \n",
       "5654  Last year, we bought the Nascar In Car package...   \n",
       "5655  Their billing department is horrid. If you dec...   \n",
       "5656  Ordered \"On Demand\" movie for the 1st time in ...   \n",
       "5657  I am being ripped of by Comcast Cable regardin...   \n",
       "5658  I have had AT&T/Comcast services, digital TV, ...   \n",
       "\n",
       "                                       clean_complaints       complaint_type  \n",
       "0     i used to love comcast until all these constan...              Account  \n",
       "1     i'm so over comcast ! the worst internet provi...     Customer Service  \n",
       "2     if i could give them a negative star or no sta...     Financial Issues  \n",
       "3     i 've had the worst experiences so far since i...     Financial Issues  \n",
       "4     check your contract when you sign up for comca...              Account  \n",
       "...                                                 ...                  ...  \n",
       "5654  last year we bought the nascar in car package ...     Financial Issues  \n",
       "5655  their billing department is horrid if you deci...     Financial Issues  \n",
       "5656  ordered on demand movie for the 1st time in no...     Financial Issues  \n",
       "5657  i am being ripped of by comcast cable regardin...     Customer Service  \n",
       "5658  i have had at t comcast services digital tv hi...  Connectivity Issues  \n",
       "\n",
       "[5659 rows x 6 columns]"
      ]
     },
     "execution_count": 9,
     "metadata": {},
     "output_type": "execute_result"
    }
   ],
   "source": [
    "df"
   ]
  },
  {
   "cell_type": "code",
   "execution_count": 10,
   "metadata": {},
   "outputs": [],
   "source": [
    "X_train, X_test, y_train, y_test = train_test_split(df['clean_complaints'], df['complaint_type'], stratify = df['complaint_type'],test_size=0.20, random_state=200)\n",
    "X_train, X_val, y_train, y_val = train_test_split(X_train, y_train, test_size=0.25, random_state=1) # 0.25 x 0.8 = 0.2"
   ]
  },
  {
   "cell_type": "code",
   "execution_count": 11,
   "metadata": {},
   "outputs": [
    {
     "data": {
      "text/plain": [
       "array(['Customer Service', 'Connectivity issues', 'Financial Issues',\n",
       "       'Slow internet', 'Billing Issues', 'Connectivity Issues',\n",
       "       'Account', 'Others', 'Internet', 'Network'], dtype=object)"
      ]
     },
     "execution_count": 11,
     "metadata": {},
     "output_type": "execute_result"
    }
   ],
   "source": [
    "y_test.unique()"
   ]
  },
  {
   "cell_type": "code",
   "execution_count": 12,
   "metadata": {},
   "outputs": [],
   "source": [
    "Encoder = LabelEncoder()\n",
    "y_train = Encoder.fit_transform(y_train)\n",
    "y_test = Encoder.fit_transform(y_test)"
   ]
  },
  {
   "cell_type": "code",
   "execution_count": 13,
   "metadata": {},
   "outputs": [
    {
     "data": {
      "text/plain": [
       "0       i used to love comcast until all these constan...\n",
       "1       i'm so over comcast ! the worst internet provi...\n",
       "2       if i could give them a negative star or no sta...\n",
       "3       i 've had the worst experiences so far since i...\n",
       "4       check your contract when you sign up for comca...\n",
       "                              ...                        \n",
       "5654    last year we bought the nascar in car package ...\n",
       "5655    their billing department is horrid if you deci...\n",
       "5656    ordered on demand movie for the 1st time in no...\n",
       "5657    i am being ripped of by comcast cable regardin...\n",
       "5658    i have had at t comcast services digital tv hi...\n",
       "Name: clean_complaints, Length: 5659, dtype: object"
      ]
     },
     "execution_count": 13,
     "metadata": {},
     "output_type": "execute_result"
    }
   ],
   "source": [
    "df['clean_complaints']"
   ]
  },
  {
   "cell_type": "markdown",
   "metadata": {},
   "source": [
    "## Generate vector for text based on the count of the tokens"
   ]
  },
  {
   "cell_type": "code",
   "execution_count": 14,
   "metadata": {},
   "outputs": [],
   "source": [
    "Tfidf_vect = TfidfVectorizer(max_features=5000)\n",
    "Tfidf_vect.fit(df['clean_complaints'])\n",
    "X_train_vectorized = Tfidf_vect.transform(X_train)\n",
    "X_test_vectorized = Tfidf_vect.transform(X_test)"
   ]
  },
  {
   "cell_type": "code",
   "execution_count": 15,
   "metadata": {},
   "outputs": [],
   "source": [
    "# from gensim.models import Word2Vec\n",
    "\n",
    "# sentences = [df['clean_complaints'] for sentence in X_train]\n",
    "# w2v_model = Word2Vec(sentences.any(), size=100, window=5, min_count=5, workers=4)"
   ]
  },
  {
   "cell_type": "markdown",
   "metadata": {},
   "source": [
    "# Naive Bayes classification"
   ]
  },
  {
   "cell_type": "code",
   "execution_count": 16,
   "metadata": {},
   "outputs": [
    {
     "data": {
      "text/plain": [
       "GaussianNB(priors=None)"
      ]
     },
     "execution_count": 16,
     "metadata": {},
     "output_type": "execute_result"
    }
   ],
   "source": [
    "cls = GaussianNB()\n",
    "cls.fit(X_train_vectorized.toarray(), y_train)"
   ]
  },
  {
   "cell_type": "code",
   "execution_count": 17,
   "metadata": {},
   "outputs": [],
   "source": [
    "y_pred = cls.predict(X_test_vectorized.toarray())"
   ]
  },
  {
   "cell_type": "code",
   "execution_count": 18,
   "metadata": {},
   "outputs": [
    {
     "data": {
      "text/plain": [
       "'The accuracy score is: 36.04%'"
      ]
     },
     "execution_count": 18,
     "metadata": {},
     "output_type": "execute_result"
    }
   ],
   "source": [
    "f'The accuracy score is: {round(accuracy_score(y_test, y_pred)*100, 2)}%'"
   ]
  },
  {
   "cell_type": "code",
   "execution_count": 19,
   "metadata": {},
   "outputs": [
    {
     "data": {
      "text/plain": [
       "'             precision    recall  f1-score   support\\n\\n          0       0.67      0.07      0.12        59\\n          1       0.50      0.03      0.05        39\\n          2       0.12      0.18      0.14        56\\n          3       0.27      0.40      0.32       192\\n          4       0.49      0.29      0.37       434\\n          5       0.42      0.67      0.51       268\\n          6       0.00      0.00      0.00         3\\n          7       0.00      0.00      0.00         2\\n          8       1.00      0.18      0.31        22\\n          9       0.09      0.11      0.10        57\\n\\navg / total       0.42      0.36      0.34      1132\\n'"
      ]
     },
     "execution_count": 19,
     "metadata": {},
     "output_type": "execute_result"
    }
   ],
   "source": [
    "classification_report(y_test,y_pred)"
   ]
  },
  {
   "cell_type": "markdown",
   "metadata": {},
   "source": [
    "# Support Vector Machine classifier"
   ]
  },
  {
   "cell_type": "code",
   "execution_count": 20,
   "metadata": {},
   "outputs": [
    {
     "data": {
      "text/plain": [
       "SVC(C=1.0, cache_size=200, class_weight=None, coef0=0.0,\n",
       "  decision_function_shape='ovr', degree=3, gamma='auto', kernel='rbf',\n",
       "  max_iter=-1, probability=False, random_state=None, shrinking=True,\n",
       "  tol=0.001, verbose=False)"
      ]
     },
     "execution_count": 20,
     "metadata": {},
     "output_type": "execute_result"
    }
   ],
   "source": [
    "cls = svm.SVC(kernel='rbf')\n",
    "cls.fit(X_train_vectorized, y_train)"
   ]
  },
  {
   "cell_type": "code",
   "execution_count": 21,
   "metadata": {},
   "outputs": [],
   "source": [
    "y_pred = cls.predict(X_test_vectorized)"
   ]
  },
  {
   "cell_type": "code",
   "execution_count": 22,
   "metadata": {},
   "outputs": [
    {
     "data": {
      "text/plain": [
       "'The accuracy score is: 38.34%'"
      ]
     },
     "execution_count": 22,
     "metadata": {},
     "output_type": "execute_result"
    }
   ],
   "source": [
    "f'The accuracy score is: {round(accuracy_score(y_test, y_pred)*100, 2)}%'"
   ]
  },
  {
   "cell_type": "code",
   "execution_count": 23,
   "metadata": {},
   "outputs": [
    {
     "data": {
      "text/plain": [
       "'             precision    recall  f1-score   support\\n\\n          0       0.00      0.00      0.00        59\\n          1       0.00      0.00      0.00        39\\n          2       0.00      0.00      0.00        56\\n          3       0.00      0.00      0.00       192\\n          4       0.38      1.00      0.55       434\\n          5       0.00      0.00      0.00       268\\n          6       0.00      0.00      0.00         3\\n          7       0.00      0.00      0.00         2\\n          8       0.00      0.00      0.00        22\\n          9       0.00      0.00      0.00        57\\n\\navg / total       0.15      0.38      0.21      1132\\n'"
      ]
     },
     "execution_count": 23,
     "metadata": {},
     "output_type": "execute_result"
    }
   ],
   "source": [
    "classification_report(y_test,y_pred)"
   ]
  },
  {
   "cell_type": "markdown",
   "metadata": {},
   "source": [
    "# Random forest classifier"
   ]
  },
  {
   "cell_type": "code",
   "execution_count": 24,
   "metadata": {},
   "outputs": [
    {
     "data": {
      "text/plain": [
       "RandomForestClassifier(bootstrap=True, class_weight=None, criterion='gini',\n",
       "            max_depth=20, max_features='auto', max_leaf_nodes=None,\n",
       "            min_impurity_decrease=0.0, min_impurity_split=None,\n",
       "            min_samples_leaf=1, min_samples_split=2,\n",
       "            min_weight_fraction_leaf=0.0, n_estimators=10, n_jobs=1,\n",
       "            oob_score=False, random_state=None, verbose=0,\n",
       "            warm_start=False)"
      ]
     },
     "execution_count": 24,
     "metadata": {},
     "output_type": "execute_result"
    }
   ],
   "source": [
    "rdmfst = RandomForestClassifier(max_depth=20)\n",
    "rdmfst.fit(X_train_vectorized, y_train)"
   ]
  },
  {
   "cell_type": "code",
   "execution_count": 25,
   "metadata": {},
   "outputs": [],
   "source": [
    "y_pred = rdmfst.predict(X_test_vectorized)"
   ]
  },
  {
   "cell_type": "code",
   "execution_count": 26,
   "metadata": {},
   "outputs": [
    {
     "data": {
      "text/plain": [
       "'The accuracy score is: 57.07%'"
      ]
     },
     "execution_count": 26,
     "metadata": {},
     "output_type": "execute_result"
    }
   ],
   "source": [
    "f'The accuracy score is: {round(accuracy_score(y_test, y_pred)*100, 2)}%'"
   ]
  },
  {
   "cell_type": "code",
   "execution_count": 27,
   "metadata": {},
   "outputs": [],
   "source": [
    "test_y_pred = rdmfst.predict(X_test_vectorized)"
   ]
  },
  {
   "cell_type": "code",
   "execution_count": 28,
   "metadata": {},
   "outputs": [
    {
     "data": {
      "text/plain": [
       "'The accuracy score is: 57.07%'"
      ]
     },
     "execution_count": 28,
     "metadata": {},
     "output_type": "execute_result"
    }
   ],
   "source": [
    "f'The accuracy score is: {round(accuracy_score(y_test, test_y_pred)*100, 2)}%'\n"
   ]
  },
  {
   "cell_type": "markdown",
   "metadata": {},
   "source": [
    "# KNN classifier"
   ]
  },
  {
   "cell_type": "code",
   "execution_count": 29,
   "metadata": {},
   "outputs": [
    {
     "data": {
      "text/plain": [
       "KNeighborsClassifier(algorithm='auto', leaf_size=30, metric='minkowski',\n",
       "           metric_params=None, n_jobs=1, n_neighbors=1000, p=2,\n",
       "           weights='distance')"
      ]
     },
     "execution_count": 29,
     "metadata": {},
     "output_type": "execute_result"
    }
   ],
   "source": [
    "neigh = KNeighborsClassifier(n_neighbors=1000, weights='distance')\n",
    "neigh.fit(X_train_vectorized, y_train)"
   ]
  },
  {
   "cell_type": "code",
   "execution_count": 30,
   "metadata": {},
   "outputs": [],
   "source": [
    "test_y_pred = neigh.predict(X_test_vectorized)"
   ]
  },
  {
   "cell_type": "code",
   "execution_count": 31,
   "metadata": {},
   "outputs": [
    {
     "data": {
      "text/plain": [
       "'The accuracy score is: 40.46%'"
      ]
     },
     "execution_count": 31,
     "metadata": {},
     "output_type": "execute_result"
    }
   ],
   "source": [
    "f'The accuracy score is: {round(accuracy_score(y_test, test_y_pred)*100, 2)}%'"
   ]
  },
  {
   "cell_type": "markdown",
   "metadata": {},
   "source": [
    "# CNN classifier"
   ]
  },
  {
   "cell_type": "code",
   "execution_count": 32,
   "metadata": {},
   "outputs": [],
   "source": [
    "\"\"\"\n",
    "Function to plot the losses and accuracy\n",
    "for CNN model\n",
    "\"\"\"\n",
    "def plot_history(history):\n",
    "    acc = history.history['accuracy']\n",
    "    val_acc = history.history['val_accuracy']\n",
    "    loss = history.history['loss']\n",
    "    val_loss = history.history['val_loss']\n",
    "    x = range(1, len(acc) + 1)\n",
    "\n",
    "    plt.figure(figsize=(12, 5))\n",
    "    plt.subplot(1, 2, 1)\n",
    "    plt.plot(x, acc, 'b', label='Training acc')\n",
    "    plt.plot(x, val_acc, 'r', label='Validation acc')\n",
    "    plt.title('Training and validation accuracy')\n",
    "    plt.legend()\n",
    "    plt.subplot(1, 2, 2)\n",
    "    plt.plot(x, loss, 'b', label='Training loss')\n",
    "    plt.plot(x, val_loss, 'r', label='Validation loss')\n",
    "    plt.title('Training and validation loss')\n",
    "    plt.legend()"
   ]
  },
  {
   "cell_type": "code",
   "execution_count": 33,
   "metadata": {},
   "outputs": [
    {
     "name": "stdout",
     "output_type": "stream",
     "text": [
      "\n",
      " * OneHot example\n",
      "[[0. 0. 0. ... 0. 0. 0.]\n",
      " [0. 0. 0. ... 0. 0. 0.]\n",
      " [0. 0. 0. ... 0. 0. 0.]\n",
      " ...\n",
      " [1. 0. 0. ... 0. 0. 0.]\n",
      " [0. 0. 0. ... 0. 0. 0.]\n",
      " [0. 0. 0. ... 0. 0. 1.]]\n",
      "\n",
      " * OneHot example\n",
      "[[0. 0. 0. ... 0. 0. 0.]\n",
      " [0. 0. 0. ... 0. 0. 0.]\n",
      " [1. 0. 0. ... 0. 0. 0.]\n",
      " ...\n",
      " [0. 0. 0. ... 0. 0. 0.]\n",
      " [0. 0. 0. ... 0. 0. 0.]\n",
      " [0. 0. 0. ... 0. 0. 0.]]\n",
      "\n",
      " * OneHot example\n",
      "[[0. 0. 0. ... 0. 0. 0.]\n",
      " [0. 0. 0. ... 0. 0. 0.]\n",
      " [0. 0. 0. ... 0. 0. 0.]\n",
      " ...\n",
      " [0. 0. 0. ... 0. 0. 0.]\n",
      " [0. 0. 1. ... 0. 0. 0.]\n",
      " [0. 0. 0. ... 0. 0. 0.]]\n"
     ]
    }
   ],
   "source": [
    "def oneHot(dummy_labels):\n",
    "    le = preprocessing.LabelEncoder()\n",
    "    enc = OneHotEncoder()\n",
    "    \n",
    "    le.fit (dummy_labels)\n",
    "    y_dummy = le.fit_transform(dummy_labels)\n",
    "    y_dummy = y_dummy.reshape(-1, 1)\n",
    "    enc.fit(y_dummy)\n",
    "    y_dummy = enc.transform(y_dummy).toarray()\n",
    "    y_dummy = y_dummy.astype('float32')\n",
    "    print (\"\\n * OneHot example\")\n",
    "    print (y_dummy)\n",
    "    return (y_dummy)\n",
    "\n",
    "y_train = oneHot(y_train)\n",
    "y_val = oneHot(y_val)\n",
    "y_test = oneHot(y_test)"
   ]
  },
  {
   "cell_type": "code",
   "execution_count": 34,
   "metadata": {},
   "outputs": [
    {
     "data": {
      "text/plain": [
       "(1132, 10)"
      ]
     },
     "execution_count": 34,
     "metadata": {},
     "output_type": "execute_result"
    }
   ],
   "source": [
    "y_test.shape"
   ]
  },
  {
   "cell_type": "code",
   "execution_count": 35,
   "metadata": {},
   "outputs": [],
   "source": [
    "# input_dim = X_train.shape[1]  # Number of features\n",
    "max_length = max([len(s.split()) for s in df['clean_complaints']])\n",
    "# print(input_dim)\n",
    "\n",
    "tokenizer = Tokenizer(num_words=max_length)\n",
    "tokenizer.fit_on_texts(X_train)\n",
    "\n",
    "X_train_tokenized = tokenizer.texts_to_sequences(X_train)\n",
    "X_val_tokenized = tokenizer.texts_to_sequences(X_val)\n",
    "X_test_tokenized = tokenizer.texts_to_sequences(X_test)\n",
    "vocab_size = len(tokenizer.word_index) + 1\n",
    "# model = Sequential()\n",
    "# model.add(Embedding(input_dim, 100, input_length=max_length))\n",
    "# model.add(Conv1D(filters=32, kernel_size=8, activation='relu'))\n",
    "# model.add(MaxPooling1D(pool_size=2))\n",
    "# model.add(Flatten())\n",
    "# model.add(Dense(10, activation='relu'))\n",
    "# model.add(Dense(1, activation='softmax'))\n",
    "\n",
    "\n",
    "# model = Sequential()\n",
    "# x = layers.Embedding(max_length, embedding_dim)(X_train)\n",
    "# model.add(layers.Conv1D(128,7, input_dim=input_dim,activation='relu'))\n",
    "# model.add(layers.Dense(10, activation='softmax'))"
   ]
  },
  {
   "cell_type": "code",
   "execution_count": 36,
   "metadata": {},
   "outputs": [],
   "source": [
    "maxlen = 100\n",
    "\n",
    "X_train_tokenized = pad_sequences(X_train_tokenized, padding='post', maxlen=maxlen)\n",
    "X_val_tokenized = pad_sequences(X_val_tokenized, padding='post', maxlen=maxlen)\n",
    "X_test_tokenized = pad_sequences(X_test_tokenized, padding='post', maxlen=maxlen)"
   ]
  },
  {
   "cell_type": "code",
   "execution_count": 56,
   "metadata": {},
   "outputs": [
    {
     "name": "stdout",
     "output_type": "stream",
     "text": [
      "Model: \"sequential_4\"\n",
      "_________________________________________________________________\n",
      "Layer (type)                 Output Shape              Param #   \n",
      "=================================================================\n",
      "embedding_4 (Embedding)      (None, 100, 100)          1357100   \n",
      "_________________________________________________________________\n",
      "conv1d_16 (Conv1D)           (None, 96, 128)           64128     \n",
      "_________________________________________________________________\n",
      "batch_normalization_16 (Batc (None, 96, 128)           512       \n",
      "_________________________________________________________________\n",
      "dropout_16 (Dropout)         (None, 96, 128)           0         \n",
      "_________________________________________________________________\n",
      "conv1d_17 (Conv1D)           (None, 92, 128)           82048     \n",
      "_________________________________________________________________\n",
      "batch_normalization_17 (Batc (None, 92, 128)           512       \n",
      "_________________________________________________________________\n",
      "dropout_17 (Dropout)         (None, 92, 128)           0         \n",
      "_________________________________________________________________\n",
      "conv1d_18 (Conv1D)           (None, 88, 128)           82048     \n",
      "_________________________________________________________________\n",
      "batch_normalization_18 (Batc (None, 88, 128)           512       \n",
      "_________________________________________________________________\n",
      "dropout_18 (Dropout)         (None, 88, 128)           0         \n",
      "_________________________________________________________________\n",
      "conv1d_19 (Conv1D)           (None, 84, 128)           82048     \n",
      "_________________________________________________________________\n",
      "batch_normalization_19 (Batc (None, 84, 128)           512       \n",
      "_________________________________________________________________\n",
      "dropout_19 (Dropout)         (None, 84, 128)           0         \n",
      "_________________________________________________________________\n",
      "global_max_pooling1d_4 (Glob (None, 128)               0         \n",
      "_________________________________________________________________\n",
      "dense_8 (Dense)              (None, 32)                4128      \n",
      "_________________________________________________________________\n",
      "dense_9 (Dense)              (None, 10)                330       \n",
      "=================================================================\n",
      "Total params: 1,673,878\n",
      "Trainable params: 1,672,854\n",
      "Non-trainable params: 1,024\n",
      "_________________________________________________________________\n"
     ]
    }
   ],
   "source": [
    "embedding_dim = 100\n",
    "\n",
    "model = Sequential()\n",
    "model.add(layers.Embedding(vocab_size, embedding_dim, input_length=maxlen))\n",
    "model.add(layers.Conv1D(128, 5, activation='relu'))\n",
    "model.add(layers.BatchNormalization())\n",
    "model.add(layers.Dropout(0.1))\n",
    "# model.add(layers.GlobalMaxPooling1D())\n",
    "model.add(layers.Conv1D(128, 5, activation='relu'))\n",
    "model.add(layers.BatchNormalization())\n",
    "model.add(layers.Dropout(0.1))\n",
    "# model.add(layers.GlobalMaxPooling1D())\n",
    "model.add(layers.Conv1D(128, 5, activation='relu'))\n",
    "model.add(layers.BatchNormalization())\n",
    "model.add(layers.Dropout(0.1))\n",
    "model.add(layers.Conv1D(128, 5, activation='relu'))\n",
    "model.add(layers.BatchNormalization())\n",
    "model.add(layers.Dropout(0.1))\n",
    "# model.add(layers.GlobalMaxPooling1D())\n",
    "# model.add(layers.Conv1D(128, 5, activation='relu'))\n",
    "# model.add(layers.BatchNormalization())\n",
    "# model.add(layers.Dropout(0.1))\n",
    "model.add(layers.GlobalMaxPooling1D())\n",
    "model.add(layers.Dense(32, activation='relu'))\n",
    "model.add(layers.Dense(10, activation='softmax'))\n",
    "model.compile(optimizer='adam',\n",
    "              loss='categorical_crossentropy',\n",
    "              metrics=['accuracy'])\n",
    "model.summary()"
   ]
  },
  {
   "cell_type": "code",
   "execution_count": 57,
   "metadata": {},
   "outputs": [
    {
     "name": "stdout",
     "output_type": "stream",
     "text": [
      "107/107 [==============================] - 1s 13ms/step - loss: 8.8074e-04 - accuracy: 1.0000\n",
      "Training Accuracy: 1.0000\n",
      "36/36 [==============================] - 0s 13ms/step - loss: 2.1759 - accuracy: 0.5928\n",
      "Test Accuracy:  0.5928\n"
     ]
    }
   ],
   "source": [
    "history = model.fit(X_train_tokenized, y_train,\n",
    "                    epochs=30,\n",
    "                    verbose=False,\n",
    "                    shuffle=True,\n",
    "                    validation_data=(X_val_tokenized, y_val),\n",
    "                    batch_size=100)\n",
    "loss, accuracy = model.evaluate(X_train_tokenized, y_train, verbose=True)\n",
    "print(\"Training Accuracy: {:.4f}\".format(accuracy))\n",
    "loss, accuracy = model.evaluate(X_test_tokenized, y_test, verbose=True)\n",
    "print(\"Test Accuracy:  {:.4f}\".format(accuracy))\n",
    "# plot_history(history)"
   ]
  },
  {
   "cell_type": "code",
   "execution_count": 58,
   "metadata": {},
   "outputs": [
    {
     "data": {
      "image/png": "[encoded data removed]",
      "text/plain": [
       "<Figure size 864x360 with 2 Axes>"
      ]
     },
     "metadata": {
      "needs_background": "light"
     },
     "output_type": "display_data"
    }
   ],
   "source": [
    "plot_history(history)"
   ]
  },
  {
   "cell_type": "code",
   "execution_count": null,
   "metadata": {},
   "outputs": [],
   "source": []
  }
 ],
 "metadata": {
  "kernelspec": {
   "display_name": "3point8",
   "language": "python",
   "name": "3point8"
  },
  "language_info": {
   "codemirror_mode": {
    "name": "ipython",
    "version": 3
   },
   "file_extension": ".py",
   "mimetype": "text/x-python",
   "name": "python",
   "nbconvert_exporter": "python",
   "pygments_lexer": "ipython3",
   "version": "3.6.3"
  }
 },
 "nbformat": 4,
 "nbformat_minor": 2
}
