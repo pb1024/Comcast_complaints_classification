{
 "cells": [
  {
   "cell_type": "code",
   "execution_count": 1,
   "metadata": {},
   "outputs": [
    {
     "name": "stderr",
     "output_type": "stream",
     "text": [
      "c:\\Users\\parth\\Anaconda3\\lib\\site-packages\\sklearn\\ensemble\\weight_boosting.py:29: DeprecationWarning: numpy.core.umath_tests is an internal NumPy module and should not be imported. It will be removed in a future NumPy release.\n",
      "  from numpy.core.umath_tests import inner1d\n"
     ]
    }
   ],
   "source": [
    "import pandas as pd\n",
    "import numpy as np\n",
    "from scipy import stats\n",
    "import calendar\n",
    "import datetime\n",
    "#Libraries for Visualization\n",
    "import matplotlib.pyplot as plt\n",
    "import seaborn as sns\n",
    "import re\n",
    "import warnings\n",
    "warnings.filterwarnings('ignore')\n",
    "from sklearn.model_selection import train_test_split\n",
    "from nltk.stem import WordNetLemmatizer\n",
    "from sklearn.feature_extraction.text import TfidfVectorizer, CountVectorizer\n",
    "from sklearn.naive_bayes import GaussianNB\n",
    "from sklearn import svm\n",
    "from sklearn.ensemble import RandomForestClassifier\n",
    "from sklearn.tree import DecisionTreeClassifier\n",
    "from sklearn.neighbors import KNeighborsClassifier\n",
    "from sklearn.ensemble import GradientBoostingClassifier\n",
    "from sklearn import preprocessing\n",
    "from sklearn.preprocessing import OneHotEncoder,LabelEncoder\n",
    "from xgboost import XGBClassifier\n",
    "import tensorflow as tf\n",
    "import keras\n",
    "from sklearn.metrics import classification_report, accuracy_score, confusion_matrix, recall_score\n",
    "import imp\n",
    "from collections import defaultdict\n",
    "import nltk\n",
    "from nltk.corpus import stopwords\n",
    "from nltk.tokenize import word_tokenize\n",
    "from nltk.stem import SnowballStemmer\n",
    "from nltk.corpus import wordnet\n",
    "from nltk.stem import WordNetLemmatizer\n",
    "from tensorflow.keras.preprocessing.text import Tokenizer\n",
    "from tensorflow.keras.preprocessing.sequence import pad_sequences\n",
    "from keras.models import Sequential\n",
    "from keras import layers\n",
    "\n",
    "import scripts\n",
    "from scripts.preprocess_text import text_preprocess\n",
    "from scripts.cnn_model_helper import plot_history,oneHot"
   ]
  },
  {
   "cell_type": "code",
   "execution_count": 2,
   "metadata": {},
   "outputs": [],
   "source": [
    "#Import comcast telecom complaints data\n",
    "df = pd.read_csv(\"data/comcast_consumer_complaints.csv\")"
   ]
  },
  {
   "cell_type": "code",
   "execution_count": 3,
   "metadata": {},
   "outputs": [
    {
     "data": {
      "text/html": [
       "<div>\n",
       "<style scoped>\n",
       "    .dataframe tbody tr th:only-of-type {\n",
       "        vertical-align: middle;\n",
       "    }\n",
       "\n",
       "    .dataframe tbody tr th {\n",
       "        vertical-align: top;\n",
       "    }\n",
       "\n",
       "    .dataframe thead th {\n",
       "        text-align: right;\n",
       "    }\n",
       "</style>\n",
       "<table border=\"1\" class=\"dataframe\">\n",
       "  <thead>\n",
       "    <tr style=\"text-align: right;\">\n",
       "      <th></th>\n",
       "      <th>Unnamed: 0</th>\n",
       "      <th>author</th>\n",
       "      <th>posted_on</th>\n",
       "      <th>rating</th>\n",
       "      <th>text</th>\n",
       "      <th>complaint_type</th>\n",
       "    </tr>\n",
       "  </thead>\n",
       "  <tbody>\n",
       "    <tr>\n",
       "      <th>0</th>\n",
       "      <td>0</td>\n",
       "      <td>Alantae of Chesterfeild, MI</td>\n",
       "      <td>Nov. 22, 2016</td>\n",
       "      <td>1</td>\n",
       "      <td>I used to love Comcast. Until all these consta...</td>\n",
       "      <td>Internet</td>\n",
       "    </tr>\n",
       "    <tr>\n",
       "      <th>1</th>\n",
       "      <td>1</td>\n",
       "      <td>Vera of Philadelphia, PA</td>\n",
       "      <td>Nov. 19, 2016</td>\n",
       "      <td>1</td>\n",
       "      <td>I'm so over Comcast! The worst internet provid...</td>\n",
       "      <td>Customer Service</td>\n",
       "    </tr>\n",
       "    <tr>\n",
       "      <th>2</th>\n",
       "      <td>2</td>\n",
       "      <td>Sarah of Rancho Cordova, CA</td>\n",
       "      <td>Nov. 17, 2016</td>\n",
       "      <td>1</td>\n",
       "      <td>If I could give them a negative star or no sta...</td>\n",
       "      <td>Financial Issues</td>\n",
       "    </tr>\n",
       "    <tr>\n",
       "      <th>3</th>\n",
       "      <td>3</td>\n",
       "      <td>Dennis of Manchester, NH</td>\n",
       "      <td>Nov. 16, 2016</td>\n",
       "      <td>1</td>\n",
       "      <td>I've had the worst experiences so far since in...</td>\n",
       "      <td>Financial Issues</td>\n",
       "    </tr>\n",
       "    <tr>\n",
       "      <th>4</th>\n",
       "      <td>4</td>\n",
       "      <td>Ryan of Bellevue, WA</td>\n",
       "      <td>Nov. 14, 2016</td>\n",
       "      <td>1</td>\n",
       "      <td>Check your contract when you sign up for Comca...</td>\n",
       "      <td>Internet</td>\n",
       "    </tr>\n",
       "    <tr>\n",
       "      <th>...</th>\n",
       "      <td>...</td>\n",
       "      <td>...</td>\n",
       "      <td>...</td>\n",
       "      <td>...</td>\n",
       "      <td>...</td>\n",
       "      <td>...</td>\n",
       "    </tr>\n",
       "    <tr>\n",
       "      <th>5654</th>\n",
       "      <td>5654</td>\n",
       "      <td>Brandye of San Ramon, CA</td>\n",
       "      <td>March 12, 2006</td>\n",
       "      <td>0</td>\n",
       "      <td>Last year, we bought the Nascar In Car package...</td>\n",
       "      <td>Financial Issues</td>\n",
       "    </tr>\n",
       "    <tr>\n",
       "      <th>5655</th>\n",
       "      <td>5655</td>\n",
       "      <td>Paul of Chicago, IL</td>\n",
       "      <td>March 12, 2006</td>\n",
       "      <td>0</td>\n",
       "      <td>Their billing department is horrid. If you dec...</td>\n",
       "      <td>Financial Issues</td>\n",
       "    </tr>\n",
       "    <tr>\n",
       "      <th>5656</th>\n",
       "      <td>5656</td>\n",
       "      <td>Autumn of Knoxville, TN</td>\n",
       "      <td>March 6, 2006</td>\n",
       "      <td>0</td>\n",
       "      <td>Ordered \"On Demand\" movie for the 1st time in ...</td>\n",
       "      <td>Financial Issues</td>\n",
       "    </tr>\n",
       "    <tr>\n",
       "      <th>5657</th>\n",
       "      <td>5657</td>\n",
       "      <td>Tina of Villa Rica, GA</td>\n",
       "      <td>Feb. 22, 2006</td>\n",
       "      <td>0</td>\n",
       "      <td>I am being ripped of by Comcast Cable regardin...</td>\n",
       "      <td>Customer Service</td>\n",
       "    </tr>\n",
       "    <tr>\n",
       "      <th>5658</th>\n",
       "      <td>5658</td>\n",
       "      <td>John of Lilburn, GA</td>\n",
       "      <td>Feb. 19, 2006</td>\n",
       "      <td>0</td>\n",
       "      <td>I have had AT&amp;T/Comcast services, digital TV, ...</td>\n",
       "      <td>Connectivity Issues</td>\n",
       "    </tr>\n",
       "  </tbody>\n",
       "</table>\n",
       "<p>5659 rows × 6 columns</p>\n",
       "</div>"
      ],
      "text/plain": [
       "      Unnamed: 0                       author       posted_on  rating  \\\n",
       "0              0  Alantae of Chesterfeild, MI   Nov. 22, 2016       1   \n",
       "1              1     Vera of Philadelphia, PA   Nov. 19, 2016       1   \n",
       "2              2  Sarah of Rancho Cordova, CA   Nov. 17, 2016       1   \n",
       "3              3     Dennis of Manchester, NH   Nov. 16, 2016       1   \n",
       "4              4         Ryan of Bellevue, WA   Nov. 14, 2016       1   \n",
       "...          ...                          ...             ...     ...   \n",
       "5654        5654     Brandye of San Ramon, CA  March 12, 2006       0   \n",
       "5655        5655          Paul of Chicago, IL  March 12, 2006       0   \n",
       "5656        5656      Autumn of Knoxville, TN   March 6, 2006       0   \n",
       "5657        5657       Tina of Villa Rica, GA   Feb. 22, 2006       0   \n",
       "5658        5658          John of Lilburn, GA   Feb. 19, 2006       0   \n",
       "\n",
       "                                                   text       complaint_type  \n",
       "0     I used to love Comcast. Until all these consta...             Internet  \n",
       "1     I'm so over Comcast! The worst internet provid...     Customer Service  \n",
       "2     If I could give them a negative star or no sta...     Financial Issues  \n",
       "3     I've had the worst experiences so far since in...     Financial Issues  \n",
       "4     Check your contract when you sign up for Comca...             Internet  \n",
       "...                                                 ...                  ...  \n",
       "5654  Last year, we bought the Nascar In Car package...     Financial Issues  \n",
       "5655  Their billing department is horrid. If you dec...     Financial Issues  \n",
       "5656  Ordered \"On Demand\" movie for the 1st time in ...     Financial Issues  \n",
       "5657  I am being ripped of by Comcast Cable regardin...     Customer Service  \n",
       "5658  I have had AT&T/Comcast services, digital TV, ...  Connectivity Issues  \n",
       "\n",
       "[5659 rows x 6 columns]"
      ]
     },
     "execution_count": 3,
     "metadata": {},
     "output_type": "execute_result"
    }
   ],
   "source": [
    "df"
   ]
  },
  {
   "cell_type": "code",
   "execution_count": 4,
   "metadata": {},
   "outputs": [],
   "source": [
    "df['text'] = df['text'].astype(str)"
   ]
  },
  {
   "attachments": {},
   "cell_type": "markdown",
   "metadata": {},
   "source": [
    "# Preprocess and clean data"
   ]
  },
  {
   "cell_type": "code",
   "execution_count": 5,
   "metadata": {},
   "outputs": [],
   "source": [
    "df['clean_complaints'] = df['text'].apply(lambda x : text_preprocess(x))\n"
   ]
  },
  {
   "cell_type": "code",
   "execution_count": 6,
   "metadata": {},
   "outputs": [
    {
     "data": {
      "text/html": [
       "<div>\n",
       "<style scoped>\n",
       "    .dataframe tbody tr th:only-of-type {\n",
       "        vertical-align: middle;\n",
       "    }\n",
       "\n",
       "    .dataframe tbody tr th {\n",
       "        vertical-align: top;\n",
       "    }\n",
       "\n",
       "    .dataframe thead th {\n",
       "        text-align: right;\n",
       "    }\n",
       "</style>\n",
       "<table border=\"1\" class=\"dataframe\">\n",
       "  <thead>\n",
       "    <tr style=\"text-align: right;\">\n",
       "      <th></th>\n",
       "      <th>Unnamed: 0</th>\n",
       "      <th>author</th>\n",
       "      <th>posted_on</th>\n",
       "      <th>rating</th>\n",
       "      <th>text</th>\n",
       "      <th>complaint_type</th>\n",
       "      <th>clean_complaints</th>\n",
       "    </tr>\n",
       "  </thead>\n",
       "  <tbody>\n",
       "    <tr>\n",
       "      <th>0</th>\n",
       "      <td>0</td>\n",
       "      <td>Alantae of Chesterfeild, MI</td>\n",
       "      <td>Nov. 22, 2016</td>\n",
       "      <td>1</td>\n",
       "      <td>I used to love Comcast. Until all these consta...</td>\n",
       "      <td>Internet</td>\n",
       "      <td>used love comcast constant updates internet ca...</td>\n",
       "    </tr>\n",
       "    <tr>\n",
       "      <th>1</th>\n",
       "      <td>1</td>\n",
       "      <td>Vera of Philadelphia, PA</td>\n",
       "      <td>Nov. 19, 2016</td>\n",
       "      <td>1</td>\n",
       "      <td>I'm so over Comcast! The worst internet provid...</td>\n",
       "      <td>Customer Service</td>\n",
       "      <td>i'm comcast ! worst internet provider i'm taki...</td>\n",
       "    </tr>\n",
       "    <tr>\n",
       "      <th>2</th>\n",
       "      <td>2</td>\n",
       "      <td>Sarah of Rancho Cordova, CA</td>\n",
       "      <td>Nov. 17, 2016</td>\n",
       "      <td>1</td>\n",
       "      <td>If I could give them a negative star or no sta...</td>\n",
       "      <td>Financial Issues</td>\n",
       "      <td>could give negative star stars review would ne...</td>\n",
       "    </tr>\n",
       "    <tr>\n",
       "      <th>3</th>\n",
       "      <td>3</td>\n",
       "      <td>Dennis of Manchester, NH</td>\n",
       "      <td>Nov. 16, 2016</td>\n",
       "      <td>1</td>\n",
       "      <td>I've had the worst experiences so far since in...</td>\n",
       "      <td>Financial Issues</td>\n",
       "      <td>'ve worst experiences far since install nothin...</td>\n",
       "    </tr>\n",
       "    <tr>\n",
       "      <th>4</th>\n",
       "      <td>4</td>\n",
       "      <td>Ryan of Bellevue, WA</td>\n",
       "      <td>Nov. 14, 2016</td>\n",
       "      <td>1</td>\n",
       "      <td>Check your contract when you sign up for Comca...</td>\n",
       "      <td>Internet</td>\n",
       "      <td>check contract sign comcast advertised offers ...</td>\n",
       "    </tr>\n",
       "    <tr>\n",
       "      <th>...</th>\n",
       "      <td>...</td>\n",
       "      <td>...</td>\n",
       "      <td>...</td>\n",
       "      <td>...</td>\n",
       "      <td>...</td>\n",
       "      <td>...</td>\n",
       "      <td>...</td>\n",
       "    </tr>\n",
       "    <tr>\n",
       "      <th>5654</th>\n",
       "      <td>5654</td>\n",
       "      <td>Brandye of San Ramon, CA</td>\n",
       "      <td>March 12, 2006</td>\n",
       "      <td>0</td>\n",
       "      <td>Last year, we bought the Nascar In Car package...</td>\n",
       "      <td>Financial Issues</td>\n",
       "      <td>last year bought nascar car package comcast ch...</td>\n",
       "    </tr>\n",
       "    <tr>\n",
       "      <th>5655</th>\n",
       "      <td>5655</td>\n",
       "      <td>Paul of Chicago, IL</td>\n",
       "      <td>March 12, 2006</td>\n",
       "      <td>0</td>\n",
       "      <td>Their billing department is horrid. If you dec...</td>\n",
       "      <td>Financial Issues</td>\n",
       "      <td>billing department horrid decide use comcast (...</td>\n",
       "    </tr>\n",
       "    <tr>\n",
       "      <th>5656</th>\n",
       "      <td>5656</td>\n",
       "      <td>Autumn of Knoxville, TN</td>\n",
       "      <td>March 6, 2006</td>\n",
       "      <td>0</td>\n",
       "      <td>Ordered \"On Demand\" movie for the 1st time in ...</td>\n",
       "      <td>Financial Issues</td>\n",
       "      <td>ordered demand movie st time nov get bill char...</td>\n",
       "    </tr>\n",
       "    <tr>\n",
       "      <th>5657</th>\n",
       "      <td>5657</td>\n",
       "      <td>Tina of Villa Rica, GA</td>\n",
       "      <td>Feb. 22, 2006</td>\n",
       "      <td>0</td>\n",
       "      <td>I am being ripped of by Comcast Cable regardin...</td>\n",
       "      <td>Customer Service</td>\n",
       "      <td>ripped comcast cable regarding billing expande...</td>\n",
       "    </tr>\n",
       "    <tr>\n",
       "      <th>5658</th>\n",
       "      <td>5658</td>\n",
       "      <td>John of Lilburn, GA</td>\n",
       "      <td>Feb. 19, 2006</td>\n",
       "      <td>0</td>\n",
       "      <td>I have had AT&amp;T/Comcast services, digital TV, ...</td>\n",
       "      <td>Connectivity Issues</td>\n",
       "      <td>comcast services digital tv high speed interne...</td>\n",
       "    </tr>\n",
       "  </tbody>\n",
       "</table>\n",
       "<p>5659 rows × 7 columns</p>\n",
       "</div>"
      ],
      "text/plain": [
       "      Unnamed: 0                       author       posted_on  rating  \\\n",
       "0              0  Alantae of Chesterfeild, MI   Nov. 22, 2016       1   \n",
       "1              1     Vera of Philadelphia, PA   Nov. 19, 2016       1   \n",
       "2              2  Sarah of Rancho Cordova, CA   Nov. 17, 2016       1   \n",
       "3              3     Dennis of Manchester, NH   Nov. 16, 2016       1   \n",
       "4              4         Ryan of Bellevue, WA   Nov. 14, 2016       1   \n",
       "...          ...                          ...             ...     ...   \n",
       "5654        5654     Brandye of San Ramon, CA  March 12, 2006       0   \n",
       "5655        5655          Paul of Chicago, IL  March 12, 2006       0   \n",
       "5656        5656      Autumn of Knoxville, TN   March 6, 2006       0   \n",
       "5657        5657       Tina of Villa Rica, GA   Feb. 22, 2006       0   \n",
       "5658        5658          John of Lilburn, GA   Feb. 19, 2006       0   \n",
       "\n",
       "                                                   text       complaint_type  \\\n",
       "0     I used to love Comcast. Until all these consta...             Internet   \n",
       "1     I'm so over Comcast! The worst internet provid...     Customer Service   \n",
       "2     If I could give them a negative star or no sta...     Financial Issues   \n",
       "3     I've had the worst experiences so far since in...     Financial Issues   \n",
       "4     Check your contract when you sign up for Comca...             Internet   \n",
       "...                                                 ...                  ...   \n",
       "5654  Last year, we bought the Nascar In Car package...     Financial Issues   \n",
       "5655  Their billing department is horrid. If you dec...     Financial Issues   \n",
       "5656  Ordered \"On Demand\" movie for the 1st time in ...     Financial Issues   \n",
       "5657  I am being ripped of by Comcast Cable regardin...     Customer Service   \n",
       "5658  I have had AT&T/Comcast services, digital TV, ...  Connectivity Issues   \n",
       "\n",
       "                                       clean_complaints  \n",
       "0     used love comcast constant updates internet ca...  \n",
       "1     i'm comcast ! worst internet provider i'm taki...  \n",
       "2     could give negative star stars review would ne...  \n",
       "3     've worst experiences far since install nothin...  \n",
       "4     check contract sign comcast advertised offers ...  \n",
       "...                                                 ...  \n",
       "5654  last year bought nascar car package comcast ch...  \n",
       "5655  billing department horrid decide use comcast (...  \n",
       "5656  ordered demand movie st time nov get bill char...  \n",
       "5657  ripped comcast cable regarding billing expande...  \n",
       "5658  comcast services digital tv high speed interne...  \n",
       "\n",
       "[5659 rows x 7 columns]"
      ]
     },
     "execution_count": 6,
     "metadata": {},
     "output_type": "execute_result"
    }
   ],
   "source": [
    "df"
   ]
  },
  {
   "cell_type": "code",
   "execution_count": 7,
   "metadata": {},
   "outputs": [],
   "source": [
    "X_train, X_test, y_train, y_test = train_test_split(df['clean_complaints'], df['complaint_type'], stratify = df['complaint_type'],test_size=0.20, random_state=200)\n",
    "X_train, X_val, y_train, y_val = train_test_split(X_train, y_train, test_size=0.25, random_state=1) # 0.25 x 0.8 = 0.2"
   ]
  },
  {
   "cell_type": "code",
   "execution_count": 8,
   "metadata": {},
   "outputs": [
    {
     "data": {
      "text/plain": [
       "array(['Financial Issues', 'Customer Service', 'Slow internet',\n",
       "       'Connectivity issues', 'Others', 'Connectivity Issues',\n",
       "       'Billing Issues', 'Account', 'Internet', 'Network'], dtype=object)"
      ]
     },
     "execution_count": 8,
     "metadata": {},
     "output_type": "execute_result"
    }
   ],
   "source": [
    "y_test.unique()"
   ]
  },
  {
   "cell_type": "code",
   "execution_count": 9,
   "metadata": {},
   "outputs": [],
   "source": [
    "Encoder = LabelEncoder()\n",
    "y_train = Encoder.fit_transform(y_train)\n",
    "y_test = Encoder.fit_transform(y_test)\n",
    "y_val = Encoder.fit_transform(y_val)"
   ]
  },
  {
   "cell_type": "code",
   "execution_count": 10,
   "metadata": {},
   "outputs": [
    {
     "data": {
      "text/plain": [
       "0       used love comcast constant updates internet ca...\n",
       "1       i'm comcast ! worst internet provider i'm taki...\n",
       "2       could give negative star stars review would ne...\n",
       "3       've worst experiences far since install nothin...\n",
       "4       check contract sign comcast advertised offers ...\n",
       "                              ...                        \n",
       "5654    last year bought nascar car package comcast ch...\n",
       "5655    billing department horrid decide use comcast (...\n",
       "5656    ordered demand movie st time nov get bill char...\n",
       "5657    ripped comcast cable regarding billing expande...\n",
       "5658    comcast services digital tv high speed interne...\n",
       "Name: clean_complaints, Length: 5659, dtype: object"
      ]
     },
     "execution_count": 10,
     "metadata": {},
     "output_type": "execute_result"
    }
   ],
   "source": [
    "df['clean_complaints']"
   ]
  },
  {
   "attachments": {},
   "cell_type": "markdown",
   "metadata": {},
   "source": [
    "## Generate vector for text based on the count of the tokens"
   ]
  },
  {
   "cell_type": "code",
   "execution_count": 11,
   "metadata": {},
   "outputs": [],
   "source": [
    "Tfidf_vect = TfidfVectorizer(max_features=5000)\n",
    "Tfidf_vect.fit(df['clean_complaints'])\n",
    "X_train_vectorized = Tfidf_vect.transform(X_train)\n",
    "X_test_vectorized = Tfidf_vect.transform(X_test)"
   ]
  },
  {
   "cell_type": "code",
   "execution_count": 12,
   "metadata": {},
   "outputs": [],
   "source": [
    "# from gensim.models import Word2Vec\n",
    "\n",
    "# sentences = [df['clean_complaints'] for sentence in X_train]\n",
    "# w2v_model = Word2Vec(sentences.any(), size=100, window=5, min_count=5, workers=4)"
   ]
  },
  {
   "attachments": {},
   "cell_type": "markdown",
   "metadata": {},
   "source": [
    "# Naive Bayes classification"
   ]
  },
  {
   "cell_type": "code",
   "execution_count": 13,
   "metadata": {},
   "outputs": [
    {
     "data": {
      "text/plain": [
       "GaussianNB(priors=None)"
      ]
     },
     "execution_count": 13,
     "metadata": {},
     "output_type": "execute_result"
    }
   ],
   "source": [
    "cls = GaussianNB()\n",
    "cls.fit(X_train_vectorized.toarray(), y_train)"
   ]
  },
  {
   "cell_type": "code",
   "execution_count": 14,
   "metadata": {},
   "outputs": [],
   "source": [
    "y_pred = cls.predict(X_test_vectorized.toarray())"
   ]
  },
  {
   "cell_type": "code",
   "execution_count": 15,
   "metadata": {},
   "outputs": [
    {
     "data": {
      "text/plain": [
       "'The accuracy score is: 31.45%'"
      ]
     },
     "execution_count": 15,
     "metadata": {},
     "output_type": "execute_result"
    }
   ],
   "source": [
    "f'The accuracy score is: {round(accuracy_score(y_test, y_pred)*100, 2)}%'"
   ]
  },
  {
   "cell_type": "code",
   "execution_count": 16,
   "metadata": {},
   "outputs": [
    {
     "data": {
      "text/plain": [
       "'             precision    recall  f1-score   support\\n\\n          0       0.00      0.00      0.00        16\\n          1       0.20      0.05      0.08        42\\n          2       0.15      0.20      0.17        55\\n          3       0.28      0.34      0.30       191\\n          4       0.43      0.32      0.36       433\\n          5       0.33      0.49      0.39       264\\n          6       0.00      0.00      0.00        10\\n          7       0.00      0.00      0.00         5\\n          8       0.53      0.13      0.21        60\\n          9       0.04      0.05      0.04        56\\n\\navg / total       0.33      0.31      0.31      1132\\n'"
      ]
     },
     "execution_count": 16,
     "metadata": {},
     "output_type": "execute_result"
    }
   ],
   "source": [
    "classification_report(y_test,y_pred)"
   ]
  },
  {
   "attachments": {},
   "cell_type": "markdown",
   "metadata": {},
   "source": [
    "# Support Vector Machine classifier"
   ]
  },
  {
   "cell_type": "code",
   "execution_count": 17,
   "metadata": {},
   "outputs": [
    {
     "data": {
      "text/plain": [
       "SVC(C=1.0, cache_size=200, class_weight=None, coef0=0.0,\n",
       "  decision_function_shape='ovr', degree=3, gamma='auto', kernel='rbf',\n",
       "  max_iter=-1, probability=False, random_state=None, shrinking=True,\n",
       "  tol=0.001, verbose=False)"
      ]
     },
     "execution_count": 17,
     "metadata": {},
     "output_type": "execute_result"
    }
   ],
   "source": [
    "cls = svm.SVC(kernel='rbf')\n",
    "cls.fit(X_train_vectorized, y_train)"
   ]
  },
  {
   "cell_type": "code",
   "execution_count": 18,
   "metadata": {},
   "outputs": [],
   "source": [
    "y_pred = cls.predict(X_test_vectorized)"
   ]
  },
  {
   "cell_type": "code",
   "execution_count": 19,
   "metadata": {},
   "outputs": [
    {
     "data": {
      "text/plain": [
       "'The accuracy score is: 38.25%'"
      ]
     },
     "execution_count": 19,
     "metadata": {},
     "output_type": "execute_result"
    }
   ],
   "source": [
    "f'The accuracy score is: {round(accuracy_score(y_test, y_pred)*100, 2)}%'"
   ]
  },
  {
   "cell_type": "code",
   "execution_count": 20,
   "metadata": {},
   "outputs": [
    {
     "data": {
      "text/plain": [
       "'             precision    recall  f1-score   support\\n\\n          0       0.00      0.00      0.00        16\\n          1       0.00      0.00      0.00        42\\n          2       0.00      0.00      0.00        55\\n          3       0.00      0.00      0.00       191\\n          4       0.38      1.00      0.55       433\\n          5       0.00      0.00      0.00       264\\n          6       0.00      0.00      0.00        10\\n          7       0.00      0.00      0.00         5\\n          8       0.00      0.00      0.00        60\\n          9       0.00      0.00      0.00        56\\n\\navg / total       0.15      0.38      0.21      1132\\n'"
      ]
     },
     "execution_count": 20,
     "metadata": {},
     "output_type": "execute_result"
    }
   ],
   "source": [
    "classification_report(y_test,y_pred)"
   ]
  },
  {
   "attachments": {},
   "cell_type": "markdown",
   "metadata": {},
   "source": [
    "# Random forest classifier"
   ]
  },
  {
   "cell_type": "code",
   "execution_count": 21,
   "metadata": {},
   "outputs": [
    {
     "data": {
      "text/plain": [
       "RandomForestClassifier(bootstrap=True, class_weight=None, criterion='gini',\n",
       "            max_depth=20, max_features='auto', max_leaf_nodes=None,\n",
       "            min_impurity_decrease=0.0, min_impurity_split=None,\n",
       "            min_samples_leaf=1, min_samples_split=2,\n",
       "            min_weight_fraction_leaf=0.0, n_estimators=10, n_jobs=1,\n",
       "            oob_score=False, random_state=None, verbose=0,\n",
       "            warm_start=False)"
      ]
     },
     "execution_count": 21,
     "metadata": {},
     "output_type": "execute_result"
    }
   ],
   "source": [
    "rdmfst = RandomForestClassifier(max_depth=20)\n",
    "rdmfst.fit(X_train_vectorized, y_train)"
   ]
  },
  {
   "cell_type": "code",
   "execution_count": 22,
   "metadata": {},
   "outputs": [],
   "source": [
    "y_pred = rdmfst.predict(X_test_vectorized)\n"
   ]
  },
  {
   "cell_type": "code",
   "execution_count": 23,
   "metadata": {},
   "outputs": [
    {
     "data": {
      "text/plain": [
       "'The accuracy score is: 58.75%'"
      ]
     },
     "execution_count": 23,
     "metadata": {},
     "output_type": "execute_result"
    }
   ],
   "source": [
    "f'The accuracy score is: {round(accuracy_score(y_test, y_pred)*100, 2)}%'"
   ]
  },
  {
   "cell_type": "code",
   "execution_count": 24,
   "metadata": {},
   "outputs": [],
   "source": [
    "test_y_pred = rdmfst.predict(X_test_vectorized)\n"
   ]
  },
  {
   "cell_type": "code",
   "execution_count": 25,
   "metadata": {},
   "outputs": [
    {
     "data": {
      "text/plain": [
       "'The accuracy score is: 58.75%'"
      ]
     },
     "execution_count": 25,
     "metadata": {},
     "output_type": "execute_result"
    }
   ],
   "source": [
    "f'The accuracy score is: {round(accuracy_score(y_test, test_y_pred)*100, 2)}%'\n"
   ]
  },
  {
   "cell_type": "code",
   "execution_count": 27,
   "metadata": {},
   "outputs": [
    {
     "data": {
      "text/plain": [
       "'             precision    recall  f1-score   support\\n\\n          0       0.00      0.00      0.00        16\\n          1       0.00      0.00      0.00        42\\n          2       0.95      0.36      0.53        55\\n          3       0.68      0.23      0.34       191\\n          4       0.52      0.94      0.67       433\\n          5       0.74      0.67      0.71       264\\n          6       0.00      0.00      0.00        10\\n          7       0.00      0.00      0.00         5\\n          8       0.90      0.15      0.26        60\\n          9       0.67      0.11      0.18        56\\n\\navg / total       0.61      0.59      0.53      1132\\n'"
      ]
     },
     "execution_count": 27,
     "metadata": {},
     "output_type": "execute_result"
    }
   ],
   "source": [
    "classification_report(y_test,y_pred)\n"
   ]
  },
  {
   "attachments": {},
   "cell_type": "markdown",
   "metadata": {},
   "source": [
    "# KNN classifier"
   ]
  },
  {
   "cell_type": "code",
   "execution_count": 28,
   "metadata": {},
   "outputs": [
    {
     "data": {
      "text/plain": [
       "KNeighborsClassifier(algorithm='auto', leaf_size=30, metric='minkowski',\n",
       "           metric_params=None, n_jobs=1, n_neighbors=1000, p=2,\n",
       "           weights='distance')"
      ]
     },
     "execution_count": 28,
     "metadata": {},
     "output_type": "execute_result"
    }
   ],
   "source": [
    "neigh = KNeighborsClassifier(n_neighbors=1000, weights='distance')\n",
    "neigh.fit(X_train_vectorized, y_train)"
   ]
  },
  {
   "cell_type": "code",
   "execution_count": 29,
   "metadata": {},
   "outputs": [],
   "source": [
    "test_y_pred = neigh.predict(X_test_vectorized)\n"
   ]
  },
  {
   "cell_type": "code",
   "execution_count": 30,
   "metadata": {},
   "outputs": [
    {
     "data": {
      "text/plain": [
       "'The accuracy score is: 48.67%'"
      ]
     },
     "execution_count": 30,
     "metadata": {},
     "output_type": "execute_result"
    }
   ],
   "source": [
    "f'The accuracy score is: {round(accuracy_score(y_test, test_y_pred)*100, 2)}%'\n"
   ]
  },
  {
   "cell_type": "code",
   "execution_count": 31,
   "metadata": {},
   "outputs": [
    {
     "data": {
      "text/plain": [
       "'             precision    recall  f1-score   support\\n\\n          0       0.00      0.00      0.00        16\\n          1       0.00      0.00      0.00        42\\n          2       0.95      0.36      0.53        55\\n          3       0.68      0.23      0.34       191\\n          4       0.52      0.94      0.67       433\\n          5       0.74      0.67      0.71       264\\n          6       0.00      0.00      0.00        10\\n          7       0.00      0.00      0.00         5\\n          8       0.90      0.15      0.26        60\\n          9       0.67      0.11      0.18        56\\n\\navg / total       0.61      0.59      0.53      1132\\n'"
      ]
     },
     "execution_count": 31,
     "metadata": {},
     "output_type": "execute_result"
    }
   ],
   "source": [
    "classification_report(y_test,y_pred)"
   ]
  },
  {
   "attachments": {},
   "cell_type": "markdown",
   "metadata": {},
   "source": [
    "# CNN classifier"
   ]
  },
  {
   "cell_type": "code",
   "execution_count": 32,
   "metadata": {},
   "outputs": [
    {
     "name": "stdout",
     "output_type": "stream",
     "text": [
      "\n",
      " * OneHot example\n",
      "[[0. 0. 0. ... 0. 0. 0.]\n",
      " [0. 0. 0. ... 0. 0. 0.]\n",
      " [0. 0. 1. ... 0. 0. 0.]\n",
      " ...\n",
      " [0. 0. 0. ... 0. 0. 0.]\n",
      " [0. 0. 0. ... 0. 0. 0.]\n",
      " [0. 0. 0. ... 0. 0. 0.]]\n",
      "\n",
      " * OneHot example\n",
      "[[0. 0. 0. ... 0. 0. 0.]\n",
      " [0. 0. 0. ... 1. 0. 0.]\n",
      " [0. 0. 0. ... 0. 0. 0.]\n",
      " ...\n",
      " [0. 0. 0. ... 0. 0. 0.]\n",
      " [0. 0. 0. ... 0. 0. 0.]\n",
      " [0. 0. 0. ... 0. 0. 0.]]\n",
      "\n",
      " * OneHot example\n",
      "[[0. 0. 0. ... 0. 0. 0.]\n",
      " [0. 0. 0. ... 0. 0. 0.]\n",
      " [0. 0. 0. ... 0. 0. 1.]\n",
      " ...\n",
      " [0. 0. 0. ... 0. 0. 0.]\n",
      " [0. 0. 0. ... 0. 0. 0.]\n",
      " [0. 0. 0. ... 0. 0. 0.]]\n"
     ]
    }
   ],
   "source": [
    "y_train = oneHot(y_train)\n",
    "y_val = oneHot(y_val)\n",
    "y_test = oneHot(y_test)"
   ]
  },
  {
   "cell_type": "code",
   "execution_count": 33,
   "metadata": {},
   "outputs": [
    {
     "data": {
      "text/plain": [
       "(1132, 10)"
      ]
     },
     "execution_count": 33,
     "metadata": {},
     "output_type": "execute_result"
    }
   ],
   "source": [
    "y_test.shape"
   ]
  },
  {
   "cell_type": "code",
   "execution_count": 34,
   "metadata": {},
   "outputs": [],
   "source": [
    "# input_dim = X_train.shape[1]  # Number of features\n",
    "max_length = max([len(s.split()) for s in df['clean_complaints']])\n",
    "# print(input_dim)\n",
    "\n",
    "tokenizer = Tokenizer(num_words=max_length)\n",
    "tokenizer.fit_on_texts(X_train)\n",
    "\n",
    "X_train_tokenized = tokenizer.texts_to_sequences(X_train)\n",
    "X_val_tokenized = tokenizer.texts_to_sequences(X_val)\n",
    "X_test_tokenized = tokenizer.texts_to_sequences(X_test)\n",
    "vocab_size = len(tokenizer.word_index) + 1"
   ]
  },
  {
   "cell_type": "code",
   "execution_count": 35,
   "metadata": {},
   "outputs": [],
   "source": [
    "maxlen = 100\n",
    "\n",
    "X_train_tokenized = pad_sequences(X_train_tokenized, padding='post', maxlen=maxlen)\n",
    "X_val_tokenized = pad_sequences(X_val_tokenized, padding='post', maxlen=maxlen)\n",
    "X_test_tokenized = pad_sequences(X_test_tokenized, padding='post', maxlen=maxlen)"
   ]
  },
  {
   "cell_type": "code",
   "execution_count": 36,
   "metadata": {},
   "outputs": [
    {
     "name": "stdout",
     "output_type": "stream",
     "text": [
      "Model: \"sequential\"\n",
      "_________________________________________________________________\n",
      "Layer (type)                 Output Shape              Param #   \n",
      "=================================================================\n",
      "embedding (Embedding)        (None, 100, 100)          1227000   \n",
      "_________________________________________________________________\n",
      "conv1d (Conv1D)              (None, 96, 128)           64128     \n",
      "_________________________________________________________________\n",
      "batch_normalization (BatchNo (None, 96, 128)           512       \n",
      "_________________________________________________________________\n",
      "dropout (Dropout)            (None, 96, 128)           0         \n",
      "_________________________________________________________________\n",
      "conv1d_1 (Conv1D)            (None, 92, 128)           82048     \n",
      "_________________________________________________________________\n",
      "batch_normalization_1 (Batch (None, 92, 128)           512       \n",
      "_________________________________________________________________\n",
      "dropout_1 (Dropout)          (None, 92, 128)           0         \n",
      "_________________________________________________________________\n",
      "conv1d_2 (Conv1D)            (None, 88, 128)           82048     \n",
      "_________________________________________________________________\n",
      "batch_normalization_2 (Batch (None, 88, 128)           512       \n",
      "_________________________________________________________________\n",
      "dropout_2 (Dropout)          (None, 88, 128)           0         \n",
      "_________________________________________________________________\n",
      "conv1d_3 (Conv1D)            (None, 84, 128)           82048     \n",
      "_________________________________________________________________\n",
      "batch_normalization_3 (Batch (None, 84, 128)           512       \n",
      "_________________________________________________________________\n",
      "dropout_3 (Dropout)          (None, 84, 128)           0         \n",
      "_________________________________________________________________\n",
      "global_max_pooling1d (Global (None, 128)               0         \n",
      "_________________________________________________________________\n",
      "dense (Dense)                (None, 32)                4128      \n",
      "_________________________________________________________________\n",
      "dense_1 (Dense)              (None, 10)                330       \n",
      "=================================================================\n",
      "Total params: 1,543,778\n",
      "Trainable params: 1,542,754\n",
      "Non-trainable params: 1,024\n",
      "_________________________________________________________________\n"
     ]
    }
   ],
   "source": [
    "embedding_dim = 100\n",
    "\n",
    "def CNNModel(vocab_size,embedding_dim,max_length):\n",
    "    model = Sequential()\n",
    "    model.add(layers.Embedding(vocab_size, embedding_dim, input_length=maxlen))\n",
    "    model.add(layers.Conv1D(128, 5, activation='relu'))\n",
    "    model.add(layers.BatchNormalization())\n",
    "    model.add(layers.Dropout(0.1))\n",
    "    # model.add(layers.GlobalMaxPooling1D())\n",
    "    model.add(layers.Conv1D(128, 5, activation='relu'))\n",
    "    model.add(layers.BatchNormalization())\n",
    "    model.add(layers.Dropout(0.1))\n",
    "    # model.add(layers.GlobalMaxPooling1D())\n",
    "    model.add(layers.Conv1D(128, 5, activation='relu'))\n",
    "    model.add(layers.BatchNormalization())\n",
    "    model.add(layers.Dropout(0.1))\n",
    "    model.add(layers.Conv1D(128, 5, activation='relu'))\n",
    "    model.add(layers.BatchNormalization())\n",
    "    model.add(layers.Dropout(0.1))\n",
    "    # model.add(layers.GlobalMaxPooling1D())\n",
    "    # model.add(layers.Conv1D(128, 5, activation='relu'))\n",
    "    # model.add(layers.BatchNormalization())\n",
    "    # model.add(layers.Dropout(0.1))\n",
    "    model.add(layers.GlobalMaxPooling1D())\n",
    "    model.add(layers.Dense(32, activation='relu'))\n",
    "    model.add(layers.Dense(10, activation='softmax'))\n",
    "    return model\n",
    "\n",
    "\n",
    "model = CNNModel(vocab_size,embedding_dim,maxlen)\n",
    "model.compile(optimizer='adam',\n",
    "              loss='categorical_crossentropy',\n",
    "              metrics=['accuracy'])\n",
    "model.summary()"
   ]
  },
  {
   "cell_type": "code",
   "execution_count": 37,
   "metadata": {},
   "outputs": [
    {
     "name": "stdout",
     "output_type": "stream",
     "text": [
      "107/107 [==============================] - 4s 36ms/step - loss: 8.8862e-04 - accuracy: 1.0000\n",
      "Training Accuracy: 1.0000\n",
      "36/36 [==============================] - 4s 100ms/step - loss: 1.6723 - accuracy: 0.7067\n",
      "Test Accuracy:  0.7067\n"
     ]
    }
   ],
   "source": [
    "history = model.fit(X_train_tokenized, y_train,\n",
    "                    epochs=30,\n",
    "                    verbose=False,\n",
    "                    shuffle=True,\n",
    "                    validation_data=(X_val_tokenized, y_val),\n",
    "                    batch_size=100)\n",
    "loss, accuracy = model.evaluate(X_train_tokenized, y_train, verbose=True)\n",
    "print(\"Training Accuracy: {:.4f}\".format(accuracy))\n",
    "loss, accuracy = model.evaluate(X_test_tokenized, y_test, verbose=True)\n",
    "print(\"Test Accuracy:  {:.4f}\".format(accuracy))\n",
    "# plot_history(history)"
   ]
  },
  {
   "cell_type": "code",
   "execution_count": 38,
   "metadata": {},
   "outputs": [
    {
     "data": {
      "image/png": "[encoded data removed]",
      "text/plain": [
       "<Figure size 864x360 with 2 Axes>"
      ]
     },
     "metadata": {
      "needs_background": "light"
     },
     "output_type": "display_data"
    }
   ],
   "source": [
    "plot_history(history)"
   ]
  },
  {
   "cell_type": "code",
   "execution_count": null,
   "metadata": {},
   "outputs": [],
   "source": []
  }
 ],
 "metadata": {
  "kernelspec": {
   "display_name": "3point8",
   "language": "python",
   "name": "3point8"
  },
  "language_info": {
   "codemirror_mode": {
    "name": "ipython",
    "version": 3
   },
   "file_extension": ".py",
   "mimetype": "text/x-python",
   "name": "python",
   "nbconvert_exporter": "python",
   "pygments_lexer": "ipython3",
   "version": "3.6.3"
  },
  "orig_nbformat": 4
 },
 "nbformat": 4,
 "nbformat_minor": 2
}
